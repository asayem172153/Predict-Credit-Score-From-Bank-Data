{
 "cells": [
  {
   "cell_type": "markdown",
   "id": "3f64254a-e40f-4187-bd41-7dad29f62cfe",
   "metadata": {},
   "source": [
    "# Importing Necessary Libraries"
   ]
  },
  {
   "cell_type": "code",
   "execution_count": 1,
   "id": "a2f2be7b-50dd-47d4-8e07-1c7ffd731324",
   "metadata": {},
   "outputs": [],
   "source": [
    "import pandas as pd\n",
    "import warnings\n",
    "from sklearn.model_selection import train_test_split as tts , RandomizedSearchCV, GridSearchCV, StratifiedKFold\n",
    "from sklearn.ensemble import RandomForestClassifier, AdaBoostClassifier\n",
    "from sklearn.preprocessing import StandardScaler, LabelEncoder, OrdinalEncoder,OneHotEncoder\n",
    "from sklearn.linear_model import LogisticRegression\n",
    "from sklearn.metrics import classification_report, accuracy_score\n",
    "from xgboost import XGBClassifier\n",
    "from imblearn.ensemble import BalancedRandomForestClassifier\n",
    "from imblearn.over_sampling import SMOTE\n",
    "from imblearn.under_sampling import ClusterCentroids,RandomUnderSampler\n",
    "import numpy as np\n",
    "from sklearn.svm import SVC\n",
    "from sklearn.tree import DecisionTreeClassifier\n",
    "# Ignore all warnings\n",
    "warnings.filterwarnings(\"ignore\")"
   ]
  },
  {
   "cell_type": "code",
   "execution_count": 2,
   "id": "97a06602-3f09-47f1-b8c9-d21d15712660",
   "metadata": {},
   "outputs": [],
   "source": [
    "train_df = pd.read_csv('train.csv') #read the train data"
   ]
  },
  {
   "cell_type": "code",
   "execution_count": 3,
   "id": "4dcac4a5-2f2d-46d2-90f9-8fa7a0f92e8f",
   "metadata": {},
   "outputs": [
    {
     "data": {
      "text/html": [
       "<div>\n",
       "<style scoped>\n",
       "    .dataframe tbody tr th:only-of-type {\n",
       "        vertical-align: middle;\n",
       "    }\n",
       "\n",
       "    .dataframe tbody tr th {\n",
       "        vertical-align: top;\n",
       "    }\n",
       "\n",
       "    .dataframe thead th {\n",
       "        text-align: right;\n",
       "    }\n",
       "</style>\n",
       "<table border=\"1\" class=\"dataframe\">\n",
       "  <thead>\n",
       "    <tr style=\"text-align: right;\">\n",
       "      <th></th>\n",
       "      <th>ID</th>\n",
       "      <th>Customer_ID</th>\n",
       "      <th>Month</th>\n",
       "      <th>Name</th>\n",
       "      <th>Age</th>\n",
       "      <th>SSN</th>\n",
       "      <th>Occupation</th>\n",
       "      <th>Annual_Income</th>\n",
       "      <th>Monthly_Inhand_Salary</th>\n",
       "      <th>Num_Bank_Accounts</th>\n",
       "      <th>...</th>\n",
       "      <th>Credit_Mix</th>\n",
       "      <th>Outstanding_Debt</th>\n",
       "      <th>Credit_Utilization_Ratio</th>\n",
       "      <th>Credit_History_Age</th>\n",
       "      <th>Payment_of_Min_Amount</th>\n",
       "      <th>Total_EMI_per_month</th>\n",
       "      <th>Amount_invested_monthly</th>\n",
       "      <th>Payment_Behaviour</th>\n",
       "      <th>Monthly_Balance</th>\n",
       "      <th>Credit_Score</th>\n",
       "    </tr>\n",
       "  </thead>\n",
       "  <tbody>\n",
       "    <tr>\n",
       "      <th>0</th>\n",
       "      <td>0x1602</td>\n",
       "      <td>CUS_0xd40</td>\n",
       "      <td>January</td>\n",
       "      <td>Aaron Maashoh</td>\n",
       "      <td>23</td>\n",
       "      <td>821-00-0265</td>\n",
       "      <td>Scientist</td>\n",
       "      <td>19114.12</td>\n",
       "      <td>1824.843333</td>\n",
       "      <td>3</td>\n",
       "      <td>...</td>\n",
       "      <td>_</td>\n",
       "      <td>809.98</td>\n",
       "      <td>26.822620</td>\n",
       "      <td>22 Years and 1 Months</td>\n",
       "      <td>No</td>\n",
       "      <td>49.574949</td>\n",
       "      <td>80.41529544</td>\n",
       "      <td>High_spent_Small_value_payments</td>\n",
       "      <td>312.4940887</td>\n",
       "      <td>Good</td>\n",
       "    </tr>\n",
       "    <tr>\n",
       "      <th>1</th>\n",
       "      <td>0x1603</td>\n",
       "      <td>CUS_0xd40</td>\n",
       "      <td>February</td>\n",
       "      <td>Aaron Maashoh</td>\n",
       "      <td>23</td>\n",
       "      <td>821-00-0265</td>\n",
       "      <td>Scientist</td>\n",
       "      <td>19114.12</td>\n",
       "      <td>NaN</td>\n",
       "      <td>3</td>\n",
       "      <td>...</td>\n",
       "      <td>Good</td>\n",
       "      <td>809.98</td>\n",
       "      <td>31.944960</td>\n",
       "      <td>NaN</td>\n",
       "      <td>No</td>\n",
       "      <td>49.574949</td>\n",
       "      <td>118.2802216</td>\n",
       "      <td>Low_spent_Large_value_payments</td>\n",
       "      <td>284.6291625</td>\n",
       "      <td>Good</td>\n",
       "    </tr>\n",
       "    <tr>\n",
       "      <th>2</th>\n",
       "      <td>0x1604</td>\n",
       "      <td>CUS_0xd40</td>\n",
       "      <td>March</td>\n",
       "      <td>Aaron Maashoh</td>\n",
       "      <td>-500</td>\n",
       "      <td>821-00-0265</td>\n",
       "      <td>Scientist</td>\n",
       "      <td>19114.12</td>\n",
       "      <td>NaN</td>\n",
       "      <td>3</td>\n",
       "      <td>...</td>\n",
       "      <td>Good</td>\n",
       "      <td>809.98</td>\n",
       "      <td>28.609352</td>\n",
       "      <td>22 Years and 3 Months</td>\n",
       "      <td>No</td>\n",
       "      <td>49.574949</td>\n",
       "      <td>81.69952126</td>\n",
       "      <td>Low_spent_Medium_value_payments</td>\n",
       "      <td>331.2098629</td>\n",
       "      <td>Good</td>\n",
       "    </tr>\n",
       "    <tr>\n",
       "      <th>3</th>\n",
       "      <td>0x1605</td>\n",
       "      <td>CUS_0xd40</td>\n",
       "      <td>April</td>\n",
       "      <td>Aaron Maashoh</td>\n",
       "      <td>23</td>\n",
       "      <td>821-00-0265</td>\n",
       "      <td>Scientist</td>\n",
       "      <td>19114.12</td>\n",
       "      <td>NaN</td>\n",
       "      <td>3</td>\n",
       "      <td>...</td>\n",
       "      <td>Good</td>\n",
       "      <td>809.98</td>\n",
       "      <td>31.377862</td>\n",
       "      <td>22 Years and 4 Months</td>\n",
       "      <td>No</td>\n",
       "      <td>49.574949</td>\n",
       "      <td>199.4580744</td>\n",
       "      <td>Low_spent_Small_value_payments</td>\n",
       "      <td>223.4513097</td>\n",
       "      <td>Good</td>\n",
       "    </tr>\n",
       "    <tr>\n",
       "      <th>4</th>\n",
       "      <td>0x1606</td>\n",
       "      <td>CUS_0xd40</td>\n",
       "      <td>May</td>\n",
       "      <td>Aaron Maashoh</td>\n",
       "      <td>23</td>\n",
       "      <td>821-00-0265</td>\n",
       "      <td>Scientist</td>\n",
       "      <td>19114.12</td>\n",
       "      <td>1824.843333</td>\n",
       "      <td>3</td>\n",
       "      <td>...</td>\n",
       "      <td>Good</td>\n",
       "      <td>809.98</td>\n",
       "      <td>24.797347</td>\n",
       "      <td>22 Years and 5 Months</td>\n",
       "      <td>No</td>\n",
       "      <td>49.574949</td>\n",
       "      <td>41.42015309</td>\n",
       "      <td>High_spent_Medium_value_payments</td>\n",
       "      <td>341.489231</td>\n",
       "      <td>Good</td>\n",
       "    </tr>\n",
       "  </tbody>\n",
       "</table>\n",
       "<p>5 rows × 28 columns</p>\n",
       "</div>"
      ],
      "text/plain": [
       "       ID Customer_ID     Month           Name   Age          SSN Occupation  \\\n",
       "0  0x1602   CUS_0xd40   January  Aaron Maashoh    23  821-00-0265  Scientist   \n",
       "1  0x1603   CUS_0xd40  February  Aaron Maashoh    23  821-00-0265  Scientist   \n",
       "2  0x1604   CUS_0xd40     March  Aaron Maashoh  -500  821-00-0265  Scientist   \n",
       "3  0x1605   CUS_0xd40     April  Aaron Maashoh    23  821-00-0265  Scientist   \n",
       "4  0x1606   CUS_0xd40       May  Aaron Maashoh    23  821-00-0265  Scientist   \n",
       "\n",
       "  Annual_Income  Monthly_Inhand_Salary  Num_Bank_Accounts  ...  Credit_Mix  \\\n",
       "0      19114.12            1824.843333                  3  ...           _   \n",
       "1      19114.12                    NaN                  3  ...        Good   \n",
       "2      19114.12                    NaN                  3  ...        Good   \n",
       "3      19114.12                    NaN                  3  ...        Good   \n",
       "4      19114.12            1824.843333                  3  ...        Good   \n",
       "\n",
       "   Outstanding_Debt Credit_Utilization_Ratio     Credit_History_Age  \\\n",
       "0            809.98                26.822620  22 Years and 1 Months   \n",
       "1            809.98                31.944960                    NaN   \n",
       "2            809.98                28.609352  22 Years and 3 Months   \n",
       "3            809.98                31.377862  22 Years and 4 Months   \n",
       "4            809.98                24.797347  22 Years and 5 Months   \n",
       "\n",
       "   Payment_of_Min_Amount Total_EMI_per_month Amount_invested_monthly  \\\n",
       "0                     No           49.574949             80.41529544   \n",
       "1                     No           49.574949             118.2802216   \n",
       "2                     No           49.574949             81.69952126   \n",
       "3                     No           49.574949             199.4580744   \n",
       "4                     No           49.574949             41.42015309   \n",
       "\n",
       "                  Payment_Behaviour Monthly_Balance Credit_Score  \n",
       "0   High_spent_Small_value_payments     312.4940887         Good  \n",
       "1    Low_spent_Large_value_payments     284.6291625         Good  \n",
       "2   Low_spent_Medium_value_payments     331.2098629         Good  \n",
       "3    Low_spent_Small_value_payments     223.4513097         Good  \n",
       "4  High_spent_Medium_value_payments      341.489231         Good  \n",
       "\n",
       "[5 rows x 28 columns]"
      ]
     },
     "execution_count": 3,
     "metadata": {},
     "output_type": "execute_result"
    }
   ],
   "source": [
    "train_df.head() #checking the first five values from dataset"
   ]
  },
  {
   "cell_type": "markdown",
   "id": "d37929b7-1de9-4724-bb82-6828e89ea6ea",
   "metadata": {
    "jp-MarkdownHeadingCollapsed": true
   },
   "source": [
    "# Modifying the dataset"
   ]
  },
  {
   "cell_type": "markdown",
   "id": "0dc0b7cb-db9e-4ce4-afba-7ed1b2e12f32",
   "metadata": {},
   "source": [
    "# Annual_Income Update"
   ]
  },
  {
   "cell_type": "code",
   "execution_count": 4,
   "id": "6dec5d79-1138-4b08-8971-d2ea57521d75",
   "metadata": {},
   "outputs": [],
   "source": [
    "# Update/Remove garbage values in the 'Annual_Income' column \n",
    "train_df['Annual_Income'] = train_df['Annual_Income'].str.rstrip('_')"
   ]
  },
  {
   "cell_type": "code",
   "execution_count": 5,
   "id": "b413ccaa-1ddb-4325-a513-ad0c7deeeb96",
   "metadata": {},
   "outputs": [],
   "source": [
    "# Convert 'Annual_Income' column to float\n",
    "train_df['Annual_Income'] = train_df['Annual_Income'].astype(float)"
   ]
  },
  {
   "cell_type": "markdown",
   "id": "41ed73a9-1def-4a97-a421-a1878eb192d7",
   "metadata": {},
   "source": [
    "# Monthly_Inhand_Salary update"
   ]
  },
  {
   "cell_type": "code",
   "execution_count": 6,
   "id": "2f843fc1-44aa-40eb-97e4-b89ab0b137c9",
   "metadata": {},
   "outputs": [],
   "source": [
    "most_common_Monthly_Inhand_Salary = train_df.groupby('Customer_ID')['Monthly_Inhand_Salary'].agg(lambda x: x.value_counts().idxmax())\n",
    "\n",
    "# Map the most common values back to the original DataFrame\n",
    "train_df['Monthly_Inhand_Salary'] = train_df['Customer_ID'].map(most_common_Monthly_Inhand_Salary)\n",
    "\n"
   ]
  },
  {
   "cell_type": "markdown",
   "id": "59cf70a7-2030-4918-8bc0-b43b73007cbc",
   "metadata": {},
   "source": [
    "# Num_Bank_Accounts update"
   ]
  },
  {
   "cell_type": "code",
   "execution_count": 7,
   "id": "5ce4f88b-637f-4b56-ae36-ac1264db3429",
   "metadata": {},
   "outputs": [],
   "source": [
    "def replace_Num_Bank_Accounts(x):\n",
    "    zero = 0\n",
    "    value_counts = x.value_counts()\n",
    "    if 0 in value_counts:\n",
    "        value_counts = value_counts.drop(0)\n",
    "        if not value_counts.empty:\n",
    "            return value_counts.idxmax()\n",
    "        else:\n",
    "            return zero\n",
    "    else:\n",
    "        return value_counts.idxmax()"
   ]
  },
  {
   "cell_type": "code",
   "execution_count": 8,
   "id": "dfe8c7e9-9365-4a76-bd95-817a25dd423f",
   "metadata": {},
   "outputs": [],
   "source": [
    "most_common_Num_Bank_Accounts = train_df.groupby('Customer_ID')['Num_Bank_Accounts'].apply(replace_Num_Bank_Accounts)\n",
    "\n",
    "# Map the most common values back to the original DataFrame\n",
    "train_df['Num_Bank_Accounts'] = train_df['Customer_ID'].map(most_common_Num_Bank_Accounts)\n",
    "\n",
    "# Remove the rows have Num_Bank_Accounts = 0\n",
    "train_df = train_df[train_df['Num_Bank_Accounts'] != 0]"
   ]
  },
  {
   "cell_type": "markdown",
   "id": "0cc6bf3f-bf28-4042-a975-1e828e242511",
   "metadata": {},
   "source": [
    "# Num_Credit_Card update"
   ]
  },
  {
   "cell_type": "code",
   "execution_count": 9,
   "id": "b832313b-3703-45dc-ad05-df91e3a06c58",
   "metadata": {},
   "outputs": [],
   "source": [
    "most_common_num_credit_card = train_df.groupby('Customer_ID')['Num_Credit_Card'].agg(lambda x: x.value_counts().idxmax())\n",
    "\n",
    "# Map the most common values back to the original DataFrame\n",
    "train_df['Num_Credit_Card'] = train_df['Customer_ID'].map(most_common_num_credit_card)\n"
   ]
  },
  {
   "cell_type": "markdown",
   "id": "28da8988-d5b7-4234-9d68-5784bb6e98c7",
   "metadata": {},
   "source": [
    "# Interest_Rate update"
   ]
  },
  {
   "cell_type": "code",
   "execution_count": 10,
   "id": "8a8ad032-d37b-4357-8798-5ceccd0a59aa",
   "metadata": {},
   "outputs": [],
   "source": [
    "most_common_Interest_Rate = train_df.groupby('Customer_ID')['Interest_Rate'].agg(lambda x: x.value_counts().idxmax())\n",
    "\n",
    "# Map the most common values back to the original DataFrame\n",
    "train_df['Interest_Rate'] = train_df['Customer_ID'].map(most_common_Interest_Rate)"
   ]
  },
  {
   "cell_type": "markdown",
   "id": "ec7313c7-78ed-4e3d-bea3-2b0afcafc3ec",
   "metadata": {},
   "source": [
    "# Num_of_Loan update"
   ]
  },
  {
   "cell_type": "code",
   "execution_count": 11,
   "id": "bfc62451-ebbb-4eed-aafc-10e99467e792",
   "metadata": {},
   "outputs": [],
   "source": [
    "# Update/Remove garbage values in the 'Num_of_Loan' column \n",
    "train_df['Num_of_Loan'] = train_df['Num_of_Loan'].str.rstrip('_')\n",
    "\n",
    "# Update'Num_of_Loan' column to int type\n",
    "train_df['Num_of_Loan'] = train_df['Num_of_Loan'].astype(int)"
   ]
  },
  {
   "cell_type": "code",
   "execution_count": 12,
   "id": "40e820cf-1f5d-4b00-ba15-d577917a14e5",
   "metadata": {},
   "outputs": [],
   "source": [
    "most_common_Num_of_Loan = train_df.groupby('Customer_ID')['Num_of_Loan'].agg(lambda x: x.value_counts().idxmax())\n",
    "\n",
    "# Map the most common values back to the original DataFrame\n",
    "train_df['Num_of_Loan'] = train_df['Customer_ID'].map(most_common_Num_of_Loan)\n"
   ]
  },
  {
   "cell_type": "markdown",
   "id": "8cf2da5e-687a-478d-ab20-9fc33f39184c",
   "metadata": {},
   "source": [
    "# Type_of_Loan update"
   ]
  },
  {
   "cell_type": "code",
   "execution_count": 13,
   "id": "5322f430-58e8-41a8-a5d3-8944ff45dd59",
   "metadata": {},
   "outputs": [],
   "source": [
    "# Fill null values in the 'Type_of_Loan' column with 'empty String'\n",
    "train_df['Type_of_Loan'] = train_df['Type_of_Loan'].fillna('Not Specified')\n",
    "\n",
    "most_common_Type_of_Loan = train_df.groupby('Customer_ID')['Type_of_Loan'].agg(lambda x: x.value_counts().idxmax())\n",
    "\n",
    "# Map the most common values back to the original DataFrame\n",
    "train_df['Type_of_Loan'] = train_df['Customer_ID'].map(most_common_Type_of_Loan)"
   ]
  },
  {
   "cell_type": "markdown",
   "id": "922c5084-535e-4880-bf3c-5a03a97a2d4d",
   "metadata": {},
   "source": [
    "# Delay_from_due_date update"
   ]
  },
  {
   "cell_type": "code",
   "execution_count": 14,
   "id": "13804c80-8bbf-4c03-b424-d0dc869da891",
   "metadata": {},
   "outputs": [],
   "source": [
    "# Update negative values in the 'Delay_from_due_date' column to 0\n",
    "train_df.loc[train_df['Delay_from_due_date'] < 0, 'Delay_from_due_date'] = 0\n"
   ]
  },
  {
   "cell_type": "markdown",
   "id": "621ab94d-09d6-4957-979b-bd51449db118",
   "metadata": {},
   "source": [
    "# Num_of_Delayed_Payment update"
   ]
  },
  {
   "cell_type": "code",
   "execution_count": 15,
   "id": "7dbfffe9-880c-4859-89bb-437ec471f1e1",
   "metadata": {},
   "outputs": [],
   "source": [
    "# Fill null values in the 'Num_of_Delayed_Payment' column with '0'\n",
    "train_df['Num_of_Delayed_Payment'] = train_df['Num_of_Delayed_Payment'].fillna('0')\n",
    "\n",
    "# Update/Remove garbage values in the 'Num_of_Delayed_Payment' column \n",
    "train_df['Num_of_Delayed_Payment'] = train_df['Num_of_Delayed_Payment'].str.rstrip('_')\n",
    "\n",
    "# Update'Num_of_Delayed_Payment' column to int type\n",
    "train_df['Num_of_Delayed_Payment'] = train_df['Num_of_Delayed_Payment'].astype(int)\n",
    "\n",
    "# Update negative values of'Num_of_Delayed_Payment' column to 0\n",
    "train_df.loc[train_df['Num_of_Delayed_Payment'] < 0, 'Num_of_Delayed_Payment'] = 0\n"
   ]
  },
  {
   "cell_type": "markdown",
   "id": "ce15d57f-5008-44a7-88d4-228d7169ec39",
   "metadata": {},
   "source": [
    "# Changed_Credit_Limit update"
   ]
  },
  {
   "cell_type": "code",
   "execution_count": 16,
   "id": "425a6e1f-fe7c-4b62-8214-60ce2bf04333",
   "metadata": {},
   "outputs": [],
   "source": [
    "#remove garbage value from 'Changed_Credit_Limit'\n",
    "train_df['Changed_Credit_Limit'] = train_df['Changed_Credit_Limit'].replace('_','0')\n",
    "\n",
    "#Update 'Changed_Credit_Limit' to float type\n",
    "train_df['Changed_Credit_Limit'] = train_df['Changed_Credit_Limit'].astype(float)\n",
    "\n",
    "#update negative values to 0\n",
    "train_df.loc[train_df['Changed_Credit_Limit'] < 0, 'Changed_Credit_Limit'] = 0\n"
   ]
  },
  {
   "cell_type": "markdown",
   "id": "6049b1f3-0116-42bf-8119-0933b008e171",
   "metadata": {},
   "source": [
    "# Num_Credit_Inquiries update"
   ]
  },
  {
   "cell_type": "code",
   "execution_count": 17,
   "id": "708354c2-85ac-43de-8f03-4812a6382eb9",
   "metadata": {},
   "outputs": [],
   "source": [
    "most_common_Num_Credit_Inquiries = train_df.groupby('Customer_ID')['Num_Credit_Inquiries'].agg(lambda x: x.value_counts().idxmax())\n",
    "\n",
    "# Map the most common values back to the original DataFrame\n",
    "train_df['Num_Credit_Inquiries'] = train_df['Customer_ID'].map(most_common_Num_Credit_Inquiries)\n"
   ]
  },
  {
   "cell_type": "markdown",
   "id": "a9f9aac2-fa82-482a-b164-789e72eecd5d",
   "metadata": {},
   "source": [
    "# Credit_Mix update"
   ]
  },
  {
   "cell_type": "code",
   "execution_count": 18,
   "id": "b2c28df5-b655-4a02-8f2d-cc7c29d6f41b",
   "metadata": {},
   "outputs": [],
   "source": [
    "def replace_credit_mix(x):\n",
    "    value_counts = x.value_counts()\n",
    "    if '_' in value_counts:\n",
    "        value_counts = value_counts.drop('_')\n",
    "        if not value_counts.empty:\n",
    "            return value_counts.idxmax()\n",
    "        else:\n",
    "            return 'not specified'\n",
    "    else:\n",
    "        return value_counts.idxmax()\n",
    "\n",
    "most_common_values = train_df.groupby('Customer_ID')['Credit_Mix'].apply(replace_credit_mix)\n",
    "train_df['Credit_Mix'] = train_df['Customer_ID'].map(most_common_values)"
   ]
  },
  {
   "cell_type": "markdown",
   "id": "91a94303-e418-464c-8a25-72d7d981f12f",
   "metadata": {},
   "source": [
    "# Outstanding_Debt update"
   ]
  },
  {
   "cell_type": "code",
   "execution_count": 19,
   "id": "354a418b-0794-47ec-924b-690a00e275bf",
   "metadata": {},
   "outputs": [],
   "source": [
    "# fill the garbage values with orginal string\n",
    "train_df['Outstanding_Debt'] = train_df['Outstanding_Debt'].str.rstrip('_')\n",
    "\n",
    "#update Outstanding_Debt column from object to float\n",
    "train_df['Outstanding_Debt'] = train_df['Outstanding_Debt'].astype(float)\n"
   ]
  },
  {
   "cell_type": "code",
   "execution_count": 20,
   "id": "c337b23e-0072-4c85-af0f-ad170576891f",
   "metadata": {},
   "outputs": [],
   "source": [
    "#Credit_Utilization_Ratio #okay"
   ]
  },
  {
   "cell_type": "markdown",
   "id": "192486eb-e007-4395-a677-123b15de7cee",
   "metadata": {},
   "source": [
    "# Credit_History_Age update"
   ]
  },
  {
   "cell_type": "code",
   "execution_count": 21,
   "id": "a6f55dde-de3c-4113-8f6e-0ff1c0e026b8",
   "metadata": {},
   "outputs": [],
   "source": [
    "# Group by 'Customer_ID' and calculate the most common 'Credit_History_Age' within each group\n",
    "grouped = train_df.groupby('Customer_ID')['Credit_History_Age']\n",
    "most_common_Credit_History_Age_by_Customer_ID = grouped.transform(lambda x: x.mode().iloc[0] if not x.mode().empty else None)\n",
    "\n",
    "# Fill missing values in 'Credit_History_Age' with the most common Credit_History_Age by 'Customer_ID'\n",
    "train_df['Credit_History_Age'] = train_df['Credit_History_Age'].fillna(most_common_Credit_History_Age_by_Customer_ID)\n"
   ]
  },
  {
   "cell_type": "markdown",
   "id": "184ecdcd-f5d3-4e54-bf0d-68faa64b8867",
   "metadata": {},
   "source": [
    "# Payment_of_Min_Amount update"
   ]
  },
  {
   "cell_type": "code",
   "execution_count": 22,
   "id": "5681d492-4306-4159-8a74-d67803c7f11c",
   "metadata": {},
   "outputs": [],
   "source": [
    "def replace_Payment_of_Min_Amount(x):\n",
    "    value_counts = x.value_counts()\n",
    "    if 'NM' in value_counts:\n",
    "        value_counts = value_counts.drop('NM')\n",
    "        if not value_counts.empty:\n",
    "            return value_counts.idxmax()\n",
    "    else:\n",
    "        return value_counts.idxmax()\n",
    "\n",
    "most_common_values = train_df.groupby('Customer_ID')['Payment_of_Min_Amount'].apply(replace_Payment_of_Min_Amount)\n",
    "train_df['Payment_of_Min_Amount'] = train_df['Customer_ID'].map(most_common_values)"
   ]
  },
  {
   "cell_type": "markdown",
   "id": "ffeb43b0-8078-4771-b7c4-b03506c56081",
   "metadata": {},
   "source": [
    "# Total_EMI_per_month update"
   ]
  },
  {
   "cell_type": "code",
   "execution_count": 23,
   "id": "df9af6fe-d46b-4287-8673-db7fb25f7524",
   "metadata": {},
   "outputs": [],
   "source": [
    "def replace_Total_EMI_per_month(x):\n",
    "    zero = 0\n",
    "    value_counts = x.value_counts()\n",
    "    if 0 in value_counts:\n",
    "        value_counts = value_counts.drop(0)\n",
    "        if not value_counts.empty:\n",
    "            return value_counts.idxmax()\n",
    "        else:\n",
    "            return zero        \n",
    "    else:\n",
    "        return value_counts.idxmax()\n",
    "\n",
    "most_common_Total_EMI_per_month = train_df.groupby('Customer_ID')['Total_EMI_per_month'].apply(replace_Total_EMI_per_month)\n",
    "\n",
    "train_df['Total_EMI_per_month'] = train_df['Customer_ID'].map(most_common_Total_EMI_per_month)"
   ]
  },
  {
   "cell_type": "code",
   "execution_count": 24,
   "id": "a80a3852-d7ec-43c6-ba20-51770e3d1dff",
   "metadata": {},
   "outputs": [],
   "source": [
    "train_df['Total_EMI_per_month'] = train_df['Total_EMI_per_month'].apply(lambda x: x / 100 if x > 1000 else x)"
   ]
  },
  {
   "cell_type": "markdown",
   "id": "8479faf9-4302-410e-a69a-986e6c242f76",
   "metadata": {},
   "source": [
    "# Amount_invested_monthly update"
   ]
  },
  {
   "cell_type": "code",
   "execution_count": 25,
   "id": "e0198387-b903-4fd0-bd40-1ee0211ecaf3",
   "metadata": {},
   "outputs": [],
   "source": [
    "# Fill null values in the 'Amount_invested_monthly' column with ''\n",
    "train_df['Amount_invested_monthly'] = train_df['Amount_invested_monthly'].fillna('0')\n",
    "\n",
    "#update garbage value to it's orginal form\n",
    "train_df['Amount_invested_monthly'] = train_df['Amount_invested_monthly'].replace('__10000__', '0')\n",
    "\n",
    "#update column into float type from object type\n",
    "train_df['Amount_invested_monthly'] = train_df['Amount_invested_monthly'].astype(float)"
   ]
  },
  {
   "cell_type": "code",
   "execution_count": 26,
   "id": "edcb4fe8-b6ea-4b64-acce-8c04b386ca83",
   "metadata": {},
   "outputs": [],
   "source": [
    "average_investment = train_df[train_df['Amount_invested_monthly'] != 0].groupby('Customer_ID')['Amount_invested_monthly'].mean()\n",
    "\n",
    "# Replace 0 values with the average for each customer\n",
    "train_df['Amount_invested_monthly'] = train_df.apply(lambda row: average_investment[row['Customer_ID']] if row['Amount_invested_monthly'] == 0 else row['Amount_invested_monthly'], axis=1)\n"
   ]
  },
  {
   "cell_type": "markdown",
   "id": "71ac3b31-15d8-4837-926c-ae4bb65ea694",
   "metadata": {},
   "source": [
    "# Payment_Behaviour update"
   ]
  },
  {
   "cell_type": "code",
   "execution_count": 27,
   "id": "da4e4189-51f6-441d-ae4d-6f22cffb0f98",
   "metadata": {},
   "outputs": [],
   "source": [
    "mode_payment = train_df[train_df['Payment_Behaviour'] != '!@9#%8'].groupby('Customer_ID')['Payment_Behaviour'].agg(lambda x: x.mode().iloc[0])\n",
    "\n",
    "# Replace '!@9#%8' with the mode value for each customer\n",
    "train_df['Payment_Behaviour'] = train_df.apply(lambda row: mode_payment[row['Customer_ID']] if row['Payment_Behaviour'] == '!@9#%8' else row['Payment_Behaviour'], axis=1)\n"
   ]
  },
  {
   "cell_type": "markdown",
   "id": "9f522bf7-95af-4a61-9ba6-bf937a018051",
   "metadata": {},
   "source": [
    "# Monthly_Balance update"
   ]
  },
  {
   "cell_type": "code",
   "execution_count": 28,
   "id": "6514c2e6-7766-4a10-881f-122c38068680",
   "metadata": {},
   "outputs": [],
   "source": [
    "# Fill null values in the 'Monthly_Balance' column with '0'\n",
    "train_df['Monthly_Balance'] = train_df['Monthly_Balance'].fillna('0')\n",
    "\n",
    "#update garbage value to it's orginal form\n",
    "train_df['Monthly_Balance'] = train_df['Monthly_Balance'].replace('__-333333333333333333333333333__','0')\n",
    "\n",
    "train_df['Monthly_Balance'] = train_df['Monthly_Balance'].astype(float)\n"
   ]
  },
  {
   "cell_type": "code",
   "execution_count": 29,
   "id": "db729b8a-1515-47f9-9466-57cef9d1a1ee",
   "metadata": {},
   "outputs": [],
   "source": [
    "average_Monthly_Balance = train_df[train_df['Monthly_Balance'] != 0].groupby('Customer_ID')['Monthly_Balance'].mean()\n",
    "\n",
    "# Replace 0 values with the average for each customer\n",
    "train_df['Monthly_Balance'] = train_df.apply(lambda row: average_Monthly_Balance[row['Customer_ID']] if row['Monthly_Balance'] == 0 else row['Monthly_Balance'], axis=1)\n"
   ]
  },
  {
   "cell_type": "code",
   "execution_count": 30,
   "id": "fc376351-e85b-494e-a4c0-fad696b79c21",
   "metadata": {},
   "outputs": [
    {
     "data": {
      "text/plain": [
       "(96200, 28)"
      ]
     },
     "execution_count": 30,
     "metadata": {},
     "output_type": "execute_result"
    }
   ],
   "source": [
    "train_df.shape"
   ]
  },
  {
   "cell_type": "code",
   "execution_count": 31,
   "id": "02f8fc92-4ed9-47f2-914d-89e4ad764b92",
   "metadata": {},
   "outputs": [
    {
     "name": "stdout",
     "output_type": "stream",
     "text": [
      "<class 'pandas.core.frame.DataFrame'>\n",
      "Index: 96200 entries, 0 to 99999\n",
      "Data columns (total 28 columns):\n",
      " #   Column                    Non-Null Count  Dtype  \n",
      "---  ------                    --------------  -----  \n",
      " 0   ID                        96200 non-null  object \n",
      " 1   Customer_ID               96200 non-null  object \n",
      " 2   Month                     96200 non-null  object \n",
      " 3   Name                      86582 non-null  object \n",
      " 4   Age                       96200 non-null  object \n",
      " 5   SSN                       96200 non-null  object \n",
      " 6   Occupation                96200 non-null  object \n",
      " 7   Annual_Income             96200 non-null  float64\n",
      " 8   Monthly_Inhand_Salary     96200 non-null  float64\n",
      " 9   Num_Bank_Accounts         96200 non-null  int64  \n",
      " 10  Num_Credit_Card           96200 non-null  int64  \n",
      " 11  Interest_Rate             96200 non-null  int64  \n",
      " 12  Num_of_Loan               96200 non-null  int32  \n",
      " 13  Type_of_Loan              96200 non-null  object \n",
      " 14  Delay_from_due_date       96200 non-null  int64  \n",
      " 15  Num_of_Delayed_Payment    96200 non-null  int32  \n",
      " 16  Changed_Credit_Limit      96200 non-null  float64\n",
      " 17  Num_Credit_Inquiries      96200 non-null  float64\n",
      " 18  Credit_Mix                96200 non-null  object \n",
      " 19  Outstanding_Debt          96200 non-null  float64\n",
      " 20  Credit_Utilization_Ratio  96200 non-null  float64\n",
      " 21  Credit_History_Age        96200 non-null  object \n",
      " 22  Payment_of_Min_Amount     96200 non-null  object \n",
      " 23  Total_EMI_per_month       96200 non-null  float64\n",
      " 24  Amount_invested_monthly   96200 non-null  float64\n",
      " 25  Payment_Behaviour         96200 non-null  object \n",
      " 26  Monthly_Balance           96200 non-null  float64\n",
      " 27  Credit_Score              96200 non-null  object \n",
      "dtypes: float64(9), int32(2), int64(4), object(13)\n",
      "memory usage: 20.6+ MB\n"
     ]
    }
   ],
   "source": [
    "train_df.info()"
   ]
  },
  {
   "cell_type": "code",
   "execution_count": null,
   "id": "2b8be28e-5028-41be-9244-06e03eb6b61f",
   "metadata": {},
   "outputs": [],
   "source": []
  },
  {
   "cell_type": "markdown",
   "id": "8c12d28f-62b0-47ac-aaa1-b009e90b0dca",
   "metadata": {},
   "source": [
    " **Dropping some unnecessary features**"
   ]
  },
  {
   "cell_type": "code",
   "execution_count": null,
   "id": "c24e7bdd-1283-42d1-90d9-5b02078d2c7c",
   "metadata": {},
   "outputs": [],
   "source": [
    "train_df = train_df.drop(['ID','Name','Age','SSN','Occupation'],axis = 'columns')"
   ]
  },
  {
   "cell_type": "code",
   "execution_count": 46,
   "id": "bdcec1f5-2e56-4254-80a4-25a9fa0bca03",
   "metadata": {},
   "outputs": [
    {
     "data": {
      "text/html": [
       "<div>\n",
       "<style scoped>\n",
       "    .dataframe tbody tr th:only-of-type {\n",
       "        vertical-align: middle;\n",
       "    }\n",
       "\n",
       "    .dataframe tbody tr th {\n",
       "        vertical-align: top;\n",
       "    }\n",
       "\n",
       "    .dataframe thead th {\n",
       "        text-align: right;\n",
       "    }\n",
       "</style>\n",
       "<table border=\"1\" class=\"dataframe\">\n",
       "  <thead>\n",
       "    <tr style=\"text-align: right;\">\n",
       "      <th></th>\n",
       "      <th>Customer_ID</th>\n",
       "      <th>Month</th>\n",
       "      <th>Annual_Income</th>\n",
       "      <th>Monthly_Inhand_Salary</th>\n",
       "      <th>Num_Bank_Accounts</th>\n",
       "      <th>Num_Credit_Card</th>\n",
       "      <th>Interest_Rate</th>\n",
       "      <th>Num_of_Loan</th>\n",
       "      <th>Type_of_Loan</th>\n",
       "      <th>Delay_from_due_date</th>\n",
       "      <th>...</th>\n",
       "      <th>Credit_Mix</th>\n",
       "      <th>Outstanding_Debt</th>\n",
       "      <th>Credit_Utilization_Ratio</th>\n",
       "      <th>Credit_History_Age</th>\n",
       "      <th>Payment_of_Min_Amount</th>\n",
       "      <th>Total_EMI_per_month</th>\n",
       "      <th>Amount_invested_monthly</th>\n",
       "      <th>Payment_Behaviour</th>\n",
       "      <th>Monthly_Balance</th>\n",
       "      <th>Credit_Score</th>\n",
       "    </tr>\n",
       "  </thead>\n",
       "  <tbody>\n",
       "    <tr>\n",
       "      <th>0</th>\n",
       "      <td>11853</td>\n",
       "      <td>3</td>\n",
       "      <td>-0.109351</td>\n",
       "      <td>-0.734944</td>\n",
       "      <td>-0.098379</td>\n",
       "      <td>-0.768531</td>\n",
       "      <td>-1.358012</td>\n",
       "      <td>4</td>\n",
       "      <td>128</td>\n",
       "      <td>-1.246223</td>\n",
       "      <td>...</td>\n",
       "      <td>1</td>\n",
       "      <td>-0.551474</td>\n",
       "      <td>-1.063676</td>\n",
       "      <td>180</td>\n",
       "      <td>0</td>\n",
       "      <td>-0.510223</td>\n",
       "      <td>-0.587316</td>\n",
       "      <td>2</td>\n",
       "      <td>-0.409719</td>\n",
       "      <td>0</td>\n",
       "    </tr>\n",
       "    <tr>\n",
       "      <th>1</th>\n",
       "      <td>11853</td>\n",
       "      <td>2</td>\n",
       "      <td>-0.109351</td>\n",
       "      <td>-0.734944</td>\n",
       "      <td>-0.098379</td>\n",
       "      <td>-0.768531</td>\n",
       "      <td>-1.358012</td>\n",
       "      <td>4</td>\n",
       "      <td>128</td>\n",
       "      <td>-1.447761</td>\n",
       "      <td>...</td>\n",
       "      <td>1</td>\n",
       "      <td>-0.551474</td>\n",
       "      <td>-0.061150</td>\n",
       "      <td>180</td>\n",
       "      <td>0</td>\n",
       "      <td>-0.510223</td>\n",
       "      <td>-0.390495</td>\n",
       "      <td>3</td>\n",
       "      <td>-0.541824</td>\n",
       "      <td>0</td>\n",
       "    </tr>\n",
       "    <tr>\n",
       "      <th>2</th>\n",
       "      <td>11853</td>\n",
       "      <td>6</td>\n",
       "      <td>-0.109351</td>\n",
       "      <td>-0.734944</td>\n",
       "      <td>-0.098379</td>\n",
       "      <td>-0.768531</td>\n",
       "      <td>-1.358012</td>\n",
       "      <td>4</td>\n",
       "      <td>128</td>\n",
       "      <td>-1.246223</td>\n",
       "      <td>...</td>\n",
       "      <td>1</td>\n",
       "      <td>-0.551474</td>\n",
       "      <td>-0.713983</td>\n",
       "      <td>184</td>\n",
       "      <td>0</td>\n",
       "      <td>-0.510223</td>\n",
       "      <td>-0.580641</td>\n",
       "      <td>4</td>\n",
       "      <td>-0.320989</td>\n",
       "      <td>0</td>\n",
       "    </tr>\n",
       "    <tr>\n",
       "      <th>3</th>\n",
       "      <td>11853</td>\n",
       "      <td>0</td>\n",
       "      <td>-0.109351</td>\n",
       "      <td>-0.734944</td>\n",
       "      <td>-0.098379</td>\n",
       "      <td>-0.768531</td>\n",
       "      <td>-1.358012</td>\n",
       "      <td>4</td>\n",
       "      <td>128</td>\n",
       "      <td>-1.111865</td>\n",
       "      <td>...</td>\n",
       "      <td>1</td>\n",
       "      <td>-0.551474</td>\n",
       "      <td>-0.172140</td>\n",
       "      <td>185</td>\n",
       "      <td>0</td>\n",
       "      <td>-0.510223</td>\n",
       "      <td>0.031465</td>\n",
       "      <td>5</td>\n",
       "      <td>-0.831863</td>\n",
       "      <td>0</td>\n",
       "    </tr>\n",
       "    <tr>\n",
       "      <th>4</th>\n",
       "      <td>11853</td>\n",
       "      <td>7</td>\n",
       "      <td>-0.109351</td>\n",
       "      <td>-0.734944</td>\n",
       "      <td>-0.098379</td>\n",
       "      <td>-0.768531</td>\n",
       "      <td>-1.358012</td>\n",
       "      <td>4</td>\n",
       "      <td>128</td>\n",
       "      <td>-1.044686</td>\n",
       "      <td>...</td>\n",
       "      <td>1</td>\n",
       "      <td>-0.551474</td>\n",
       "      <td>-1.460055</td>\n",
       "      <td>186</td>\n",
       "      <td>0</td>\n",
       "      <td>-0.510223</td>\n",
       "      <td>-0.790012</td>\n",
       "      <td>1</td>\n",
       "      <td>-0.272255</td>\n",
       "      <td>0</td>\n",
       "    </tr>\n",
       "  </tbody>\n",
       "</table>\n",
       "<p>5 rows × 23 columns</p>\n",
       "</div>"
      ],
      "text/plain": [
       "   Customer_ID  Month  Annual_Income  Monthly_Inhand_Salary  \\\n",
       "0        11853      3      -0.109351              -0.734944   \n",
       "1        11853      2      -0.109351              -0.734944   \n",
       "2        11853      6      -0.109351              -0.734944   \n",
       "3        11853      0      -0.109351              -0.734944   \n",
       "4        11853      7      -0.109351              -0.734944   \n",
       "\n",
       "   Num_Bank_Accounts  Num_Credit_Card  Interest_Rate  Num_of_Loan  \\\n",
       "0          -0.098379        -0.768531      -1.358012            4   \n",
       "1          -0.098379        -0.768531      -1.358012            4   \n",
       "2          -0.098379        -0.768531      -1.358012            4   \n",
       "3          -0.098379        -0.768531      -1.358012            4   \n",
       "4          -0.098379        -0.768531      -1.358012            4   \n",
       "\n",
       "   Type_of_Loan  Delay_from_due_date  ...  Credit_Mix  Outstanding_Debt  \\\n",
       "0           128            -1.246223  ...           1         -0.551474   \n",
       "1           128            -1.447761  ...           1         -0.551474   \n",
       "2           128            -1.246223  ...           1         -0.551474   \n",
       "3           128            -1.111865  ...           1         -0.551474   \n",
       "4           128            -1.044686  ...           1         -0.551474   \n",
       "\n",
       "   Credit_Utilization_Ratio  Credit_History_Age  Payment_of_Min_Amount  \\\n",
       "0                 -1.063676                 180                      0   \n",
       "1                 -0.061150                 180                      0   \n",
       "2                 -0.713983                 184                      0   \n",
       "3                 -0.172140                 185                      0   \n",
       "4                 -1.460055                 186                      0   \n",
       "\n",
       "   Total_EMI_per_month  Amount_invested_monthly  Payment_Behaviour  \\\n",
       "0            -0.510223                -0.587316                  2   \n",
       "1            -0.510223                -0.390495                  3   \n",
       "2            -0.510223                -0.580641                  4   \n",
       "3            -0.510223                 0.031465                  5   \n",
       "4            -0.510223                -0.790012                  1   \n",
       "\n",
       "   Monthly_Balance  Credit_Score  \n",
       "0        -0.409719             0  \n",
       "1        -0.541824             0  \n",
       "2        -0.320989             0  \n",
       "3        -0.831863             0  \n",
       "4        -0.272255             0  \n",
       "\n",
       "[5 rows x 23 columns]"
      ]
     },
     "execution_count": 46,
     "metadata": {},
     "output_type": "execute_result"
    }
   ],
   "source": [
    "train_df.head()"
   ]
  },
  {
   "cell_type": "code",
   "execution_count": 34,
   "id": "fe4381d4-c5cf-4dac-8e0a-cbe40c0d035d",
   "metadata": {},
   "outputs": [
    {
     "data": {
      "image/png": "[encoded data removed]",
      "text/plain": [
       "<Figure size 600x400 with 1 Axes>"
      ]
     },
     "metadata": {},
     "output_type": "display_data"
    },
    {
     "name": "stdout",
     "output_type": "stream",
     "text": [
      "Class Proportions:\n",
      "Credit_Score\n",
      "Standard    0.537516\n",
      "Poor        0.294906\n",
      "Good        0.167578\n",
      "Name: proportion, dtype: float64\n"
     ]
    }
   ],
   "source": [
    "import matplotlib.pyplot as plt\n",
    "\n",
    "# Calculate class proportions\n",
    "class_proportions = train_df['Credit_Score'].value_counts(normalize=True)\n",
    "\n",
    "# Visualize class distribution\n",
    "plt.figure(figsize=(6, 4))\n",
    "class_proportions.plot(kind='bar')\n",
    "plt.title('Distribution of Credit_Score')\n",
    "plt.xlabel('Credit_Score')\n",
    "plt.ylabel('Proportion')\n",
    "plt.xticks(rotation=0)\n",
    "plt.show()\n",
    "\n",
    "# Print class proportions\n",
    "print(\"Class Proportions:\")\n",
    "print(class_proportions)\n"
   ]
  },
  {
   "cell_type": "code",
   "execution_count": null,
   "id": "08c7e9e9-7e38-46d9-b23a-c8b4cdfdaa87",
   "metadata": {},
   "outputs": [],
   "source": []
  },
  {
   "cell_type": "markdown",
   "id": "1db78d70-5979-44ad-a5e2-eabd34287046",
   "metadata": {},
   "source": [
    "# Apply Encoding "
   ]
  },
  {
   "cell_type": "code",
   "execution_count": 47,
   "id": "63545859-cfed-45e7-b96c-93a7a346df87",
   "metadata": {},
   "outputs": [],
   "source": [
    "encoder = LabelEncoder()\n",
    "scaler = StandardScaler()"
   ]
  },
  {
   "cell_type": "code",
   "execution_count": 48,
   "id": "4f57f16f-6a72-4a54-b9b9-75a61d1992d5",
   "metadata": {},
   "outputs": [],
   "source": [
    "categorical_features = ['Customer_ID','Month', 'Type_of_Loan', 'Credit_Mix', 'Credit_History_Age', 'Payment_of_Min_Amount', 'Payment_Behaviour','Credit_Score']\n",
    "\n",
    "# Apply preprocessing to each column based on dtype\n",
    "for col in train_df.columns:\n",
    "    if train_df[col].dtype == 'object' and col in categorical_features:\n",
    "        train_df[col] = encoder.fit_transform(train_df[[col]])\n",
    "    elif train_df[col].dtype in ['int64', 'float64']:\n",
    "        train_df[col] = scaler.fit_transform(train_df[[col]])\n",
    "\n"
   ]
  },
  {
   "cell_type": "code",
   "execution_count": 49,
   "id": "de462adf-9a3b-4aef-afb8-0ea2b928534f",
   "metadata": {},
   "outputs": [
    {
     "data": {
      "text/html": [
       "<div>\n",
       "<style scoped>\n",
       "    .dataframe tbody tr th:only-of-type {\n",
       "        vertical-align: middle;\n",
       "    }\n",
       "\n",
       "    .dataframe tbody tr th {\n",
       "        vertical-align: top;\n",
       "    }\n",
       "\n",
       "    .dataframe thead th {\n",
       "        text-align: right;\n",
       "    }\n",
       "</style>\n",
       "<table border=\"1\" class=\"dataframe\">\n",
       "  <thead>\n",
       "    <tr style=\"text-align: right;\">\n",
       "      <th></th>\n",
       "      <th>Customer_ID</th>\n",
       "      <th>Month</th>\n",
       "      <th>Annual_Income</th>\n",
       "      <th>Monthly_Inhand_Salary</th>\n",
       "      <th>Num_Bank_Accounts</th>\n",
       "      <th>Num_Credit_Card</th>\n",
       "      <th>Interest_Rate</th>\n",
       "      <th>Num_of_Loan</th>\n",
       "      <th>Type_of_Loan</th>\n",
       "      <th>Delay_from_due_date</th>\n",
       "      <th>...</th>\n",
       "      <th>Credit_Mix</th>\n",
       "      <th>Outstanding_Debt</th>\n",
       "      <th>Credit_Utilization_Ratio</th>\n",
       "      <th>Credit_History_Age</th>\n",
       "      <th>Payment_of_Min_Amount</th>\n",
       "      <th>Total_EMI_per_month</th>\n",
       "      <th>Amount_invested_monthly</th>\n",
       "      <th>Payment_Behaviour</th>\n",
       "      <th>Monthly_Balance</th>\n",
       "      <th>Credit_Score</th>\n",
       "    </tr>\n",
       "  </thead>\n",
       "  <tbody>\n",
       "    <tr>\n",
       "      <th>0</th>\n",
       "      <td>11853</td>\n",
       "      <td>3</td>\n",
       "      <td>-0.109351</td>\n",
       "      <td>-0.734944</td>\n",
       "      <td>-0.098379</td>\n",
       "      <td>-0.768531</td>\n",
       "      <td>-1.358012</td>\n",
       "      <td>4</td>\n",
       "      <td>128</td>\n",
       "      <td>-1.246223</td>\n",
       "      <td>...</td>\n",
       "      <td>1</td>\n",
       "      <td>-0.551474</td>\n",
       "      <td>-1.063676</td>\n",
       "      <td>180</td>\n",
       "      <td>0</td>\n",
       "      <td>-0.510223</td>\n",
       "      <td>-0.587316</td>\n",
       "      <td>2</td>\n",
       "      <td>-0.409719</td>\n",
       "      <td>0</td>\n",
       "    </tr>\n",
       "    <tr>\n",
       "      <th>1</th>\n",
       "      <td>11853</td>\n",
       "      <td>2</td>\n",
       "      <td>-0.109351</td>\n",
       "      <td>-0.734944</td>\n",
       "      <td>-0.098379</td>\n",
       "      <td>-0.768531</td>\n",
       "      <td>-1.358012</td>\n",
       "      <td>4</td>\n",
       "      <td>128</td>\n",
       "      <td>-1.447761</td>\n",
       "      <td>...</td>\n",
       "      <td>1</td>\n",
       "      <td>-0.551474</td>\n",
       "      <td>-0.061150</td>\n",
       "      <td>180</td>\n",
       "      <td>0</td>\n",
       "      <td>-0.510223</td>\n",
       "      <td>-0.390495</td>\n",
       "      <td>3</td>\n",
       "      <td>-0.541824</td>\n",
       "      <td>0</td>\n",
       "    </tr>\n",
       "    <tr>\n",
       "      <th>2</th>\n",
       "      <td>11853</td>\n",
       "      <td>6</td>\n",
       "      <td>-0.109351</td>\n",
       "      <td>-0.734944</td>\n",
       "      <td>-0.098379</td>\n",
       "      <td>-0.768531</td>\n",
       "      <td>-1.358012</td>\n",
       "      <td>4</td>\n",
       "      <td>128</td>\n",
       "      <td>-1.246223</td>\n",
       "      <td>...</td>\n",
       "      <td>1</td>\n",
       "      <td>-0.551474</td>\n",
       "      <td>-0.713983</td>\n",
       "      <td>184</td>\n",
       "      <td>0</td>\n",
       "      <td>-0.510223</td>\n",
       "      <td>-0.580641</td>\n",
       "      <td>4</td>\n",
       "      <td>-0.320989</td>\n",
       "      <td>0</td>\n",
       "    </tr>\n",
       "    <tr>\n",
       "      <th>3</th>\n",
       "      <td>11853</td>\n",
       "      <td>0</td>\n",
       "      <td>-0.109351</td>\n",
       "      <td>-0.734944</td>\n",
       "      <td>-0.098379</td>\n",
       "      <td>-0.768531</td>\n",
       "      <td>-1.358012</td>\n",
       "      <td>4</td>\n",
       "      <td>128</td>\n",
       "      <td>-1.111865</td>\n",
       "      <td>...</td>\n",
       "      <td>1</td>\n",
       "      <td>-0.551474</td>\n",
       "      <td>-0.172140</td>\n",
       "      <td>185</td>\n",
       "      <td>0</td>\n",
       "      <td>-0.510223</td>\n",
       "      <td>0.031465</td>\n",
       "      <td>5</td>\n",
       "      <td>-0.831863</td>\n",
       "      <td>0</td>\n",
       "    </tr>\n",
       "    <tr>\n",
       "      <th>4</th>\n",
       "      <td>11853</td>\n",
       "      <td>7</td>\n",
       "      <td>-0.109351</td>\n",
       "      <td>-0.734944</td>\n",
       "      <td>-0.098379</td>\n",
       "      <td>-0.768531</td>\n",
       "      <td>-1.358012</td>\n",
       "      <td>4</td>\n",
       "      <td>128</td>\n",
       "      <td>-1.044686</td>\n",
       "      <td>...</td>\n",
       "      <td>1</td>\n",
       "      <td>-0.551474</td>\n",
       "      <td>-1.460055</td>\n",
       "      <td>186</td>\n",
       "      <td>0</td>\n",
       "      <td>-0.510223</td>\n",
       "      <td>-0.790012</td>\n",
       "      <td>1</td>\n",
       "      <td>-0.272255</td>\n",
       "      <td>0</td>\n",
       "    </tr>\n",
       "    <tr>\n",
       "      <th>...</th>\n",
       "      <td>...</td>\n",
       "      <td>...</td>\n",
       "      <td>...</td>\n",
       "      <td>...</td>\n",
       "      <td>...</td>\n",
       "      <td>...</td>\n",
       "      <td>...</td>\n",
       "      <td>...</td>\n",
       "      <td>...</td>\n",
       "      <td>...</td>\n",
       "      <td>...</td>\n",
       "      <td>...</td>\n",
       "      <td>...</td>\n",
       "      <td>...</td>\n",
       "      <td>...</td>\n",
       "      <td>...</td>\n",
       "      <td>...</td>\n",
       "      <td>...</td>\n",
       "      <td>...</td>\n",
       "      <td>...</td>\n",
       "      <td>...</td>\n",
       "    </tr>\n",
       "    <tr>\n",
       "      <th>99995</th>\n",
       "      <td>8484</td>\n",
       "      <td>0</td>\n",
       "      <td>-0.094907</td>\n",
       "      <td>-0.247284</td>\n",
       "      <td>-0.085517</td>\n",
       "      <td>0.201002</td>\n",
       "      <td>-0.899813</td>\n",
       "      <td>2</td>\n",
       "      <td>677</td>\n",
       "      <td>0.097361</td>\n",
       "      <td>...</td>\n",
       "      <td>1</td>\n",
       "      <td>-0.815185</td>\n",
       "      <td>0.470927</td>\n",
       "      <td>307</td>\n",
       "      <td>0</td>\n",
       "      <td>-0.622606</td>\n",
       "      <td>-0.688386</td>\n",
       "      <td>0</td>\n",
       "      <td>0.383779</td>\n",
       "      <td>1</td>\n",
       "    </tr>\n",
       "    <tr>\n",
       "      <th>99996</th>\n",
       "      <td>8484</td>\n",
       "      <td>7</td>\n",
       "      <td>-0.094907</td>\n",
       "      <td>-0.247284</td>\n",
       "      <td>-0.085517</td>\n",
       "      <td>0.201002</td>\n",
       "      <td>-0.899813</td>\n",
       "      <td>2</td>\n",
       "      <td>677</td>\n",
       "      <td>-0.238535</td>\n",
       "      <td>...</td>\n",
       "      <td>1</td>\n",
       "      <td>-0.815185</td>\n",
       "      <td>1.626057</td>\n",
       "      <td>308</td>\n",
       "      <td>0</td>\n",
       "      <td>-0.622606</td>\n",
       "      <td>-0.723656</td>\n",
       "      <td>1</td>\n",
       "      <td>0.463357</td>\n",
       "      <td>1</td>\n",
       "    </tr>\n",
       "    <tr>\n",
       "      <th>99997</th>\n",
       "      <td>8484</td>\n",
       "      <td>5</td>\n",
       "      <td>-0.094907</td>\n",
       "      <td>-0.247284</td>\n",
       "      <td>-0.085517</td>\n",
       "      <td>0.201002</td>\n",
       "      <td>-0.899813</td>\n",
       "      <td>2</td>\n",
       "      <td>677</td>\n",
       "      <td>0.366078</td>\n",
       "      <td>...</td>\n",
       "      <td>1</td>\n",
       "      <td>-0.815185</td>\n",
       "      <td>1.761080</td>\n",
       "      <td>309</td>\n",
       "      <td>0</td>\n",
       "      <td>-0.622606</td>\n",
       "      <td>-0.880414</td>\n",
       "      <td>0</td>\n",
       "      <td>0.558922</td>\n",
       "      <td>1</td>\n",
       "    </tr>\n",
       "    <tr>\n",
       "      <th>99998</th>\n",
       "      <td>8484</td>\n",
       "      <td>4</td>\n",
       "      <td>-0.094907</td>\n",
       "      <td>-0.247284</td>\n",
       "      <td>-0.085517</td>\n",
       "      <td>0.201002</td>\n",
       "      <td>-0.899813</td>\n",
       "      <td>2</td>\n",
       "      <td>677</td>\n",
       "      <td>-0.104177</td>\n",
       "      <td>...</td>\n",
       "      <td>1</td>\n",
       "      <td>-0.815185</td>\n",
       "      <td>0.270247</td>\n",
       "      <td>310</td>\n",
       "      <td>0</td>\n",
       "      <td>-0.622606</td>\n",
       "      <td>0.302875</td>\n",
       "      <td>3</td>\n",
       "      <td>-0.378093</td>\n",
       "      <td>2</td>\n",
       "    </tr>\n",
       "    <tr>\n",
       "      <th>99999</th>\n",
       "      <td>8484</td>\n",
       "      <td>1</td>\n",
       "      <td>-0.094907</td>\n",
       "      <td>-0.247284</td>\n",
       "      <td>-0.085517</td>\n",
       "      <td>0.201002</td>\n",
       "      <td>-0.899813</td>\n",
       "      <td>2</td>\n",
       "      <td>677</td>\n",
       "      <td>-0.238535</td>\n",
       "      <td>...</td>\n",
       "      <td>1</td>\n",
       "      <td>-0.815185</td>\n",
       "      <td>0.378724</td>\n",
       "      <td>301</td>\n",
       "      <td>0</td>\n",
       "      <td>-0.622606</td>\n",
       "      <td>-0.136399</td>\n",
       "      <td>0</td>\n",
       "      <td>-0.024853</td>\n",
       "      <td>1</td>\n",
       "    </tr>\n",
       "  </tbody>\n",
       "</table>\n",
       "<p>96200 rows × 23 columns</p>\n",
       "</div>"
      ],
      "text/plain": [
       "       Customer_ID  Month  Annual_Income  Monthly_Inhand_Salary  \\\n",
       "0            11853      3      -0.109351              -0.734944   \n",
       "1            11853      2      -0.109351              -0.734944   \n",
       "2            11853      6      -0.109351              -0.734944   \n",
       "3            11853      0      -0.109351              -0.734944   \n",
       "4            11853      7      -0.109351              -0.734944   \n",
       "...            ...    ...            ...                    ...   \n",
       "99995         8484      0      -0.094907              -0.247284   \n",
       "99996         8484      7      -0.094907              -0.247284   \n",
       "99997         8484      5      -0.094907              -0.247284   \n",
       "99998         8484      4      -0.094907              -0.247284   \n",
       "99999         8484      1      -0.094907              -0.247284   \n",
       "\n",
       "       Num_Bank_Accounts  Num_Credit_Card  Interest_Rate  Num_of_Loan  \\\n",
       "0              -0.098379        -0.768531      -1.358012            4   \n",
       "1              -0.098379        -0.768531      -1.358012            4   \n",
       "2              -0.098379        -0.768531      -1.358012            4   \n",
       "3              -0.098379        -0.768531      -1.358012            4   \n",
       "4              -0.098379        -0.768531      -1.358012            4   \n",
       "...                  ...              ...            ...          ...   \n",
       "99995          -0.085517         0.201002      -0.899813            2   \n",
       "99996          -0.085517         0.201002      -0.899813            2   \n",
       "99997          -0.085517         0.201002      -0.899813            2   \n",
       "99998          -0.085517         0.201002      -0.899813            2   \n",
       "99999          -0.085517         0.201002      -0.899813            2   \n",
       "\n",
       "       Type_of_Loan  Delay_from_due_date  ...  Credit_Mix  Outstanding_Debt  \\\n",
       "0               128            -1.246223  ...           1         -0.551474   \n",
       "1               128            -1.447761  ...           1         -0.551474   \n",
       "2               128            -1.246223  ...           1         -0.551474   \n",
       "3               128            -1.111865  ...           1         -0.551474   \n",
       "4               128            -1.044686  ...           1         -0.551474   \n",
       "...             ...                  ...  ...         ...               ...   \n",
       "99995           677             0.097361  ...           1         -0.815185   \n",
       "99996           677            -0.238535  ...           1         -0.815185   \n",
       "99997           677             0.366078  ...           1         -0.815185   \n",
       "99998           677            -0.104177  ...           1         -0.815185   \n",
       "99999           677            -0.238535  ...           1         -0.815185   \n",
       "\n",
       "       Credit_Utilization_Ratio  Credit_History_Age  Payment_of_Min_Amount  \\\n",
       "0                     -1.063676                 180                      0   \n",
       "1                     -0.061150                 180                      0   \n",
       "2                     -0.713983                 184                      0   \n",
       "3                     -0.172140                 185                      0   \n",
       "4                     -1.460055                 186                      0   \n",
       "...                         ...                 ...                    ...   \n",
       "99995                  0.470927                 307                      0   \n",
       "99996                  1.626057                 308                      0   \n",
       "99997                  1.761080                 309                      0   \n",
       "99998                  0.270247                 310                      0   \n",
       "99999                  0.378724                 301                      0   \n",
       "\n",
       "       Total_EMI_per_month  Amount_invested_monthly  Payment_Behaviour  \\\n",
       "0                -0.510223                -0.587316                  2   \n",
       "1                -0.510223                -0.390495                  3   \n",
       "2                -0.510223                -0.580641                  4   \n",
       "3                -0.510223                 0.031465                  5   \n",
       "4                -0.510223                -0.790012                  1   \n",
       "...                    ...                      ...                ...   \n",
       "99995            -0.622606                -0.688386                  0   \n",
       "99996            -0.622606                -0.723656                  1   \n",
       "99997            -0.622606                -0.880414                  0   \n",
       "99998            -0.622606                 0.302875                  3   \n",
       "99999            -0.622606                -0.136399                  0   \n",
       "\n",
       "       Monthly_Balance  Credit_Score  \n",
       "0            -0.409719             0  \n",
       "1            -0.541824             0  \n",
       "2            -0.320989             0  \n",
       "3            -0.831863             0  \n",
       "4            -0.272255             0  \n",
       "...                ...           ...  \n",
       "99995         0.383779             1  \n",
       "99996         0.463357             1  \n",
       "99997         0.558922             1  \n",
       "99998        -0.378093             2  \n",
       "99999        -0.024853             1  \n",
       "\n",
       "[96200 rows x 23 columns]"
      ]
     },
     "execution_count": 49,
     "metadata": {},
     "output_type": "execute_result"
    }
   ],
   "source": [
    "train_df"
   ]
  },
  {
   "cell_type": "markdown",
   "id": "b554c018-35a7-4d9c-9652-feb4fabac3ee",
   "metadata": {},
   "source": [
    "# Split the dataset"
   ]
  },
  {
   "cell_type": "code",
   "execution_count": 50,
   "id": "4243f5a0-a596-4edd-9f45-fd3d85231030",
   "metadata": {},
   "outputs": [],
   "source": [
    "x = train_df.drop('Credit_Score',axis = 1) #storing data to x without Credit_Score\n",
    "y = train_df['Credit_Score'] # Storing only Credit_Score to y\n"
   ]
  },
  {
   "cell_type": "code",
   "execution_count": 51,
   "id": "1bf9b940-1263-46a5-bd97-20fffdb23efb",
   "metadata": {},
   "outputs": [],
   "source": [
    "xtrain,xtest,ytrain,ytest = tts(x,y,test_size = 0.2,random_state = 42)"
   ]
  },
  {
   "cell_type": "markdown",
   "id": "03515932-5186-41ba-a871-559f4b8d534c",
   "metadata": {},
   "source": [
    "# Applying SVM"
   ]
  },
  {
   "cell_type": "code",
   "execution_count": null,
   "id": "10d89c6f-d629-4fa5-a114-8d3f17a26ea4",
   "metadata": {},
   "outputs": [],
   "source": [
    "svm = SVC(kernel='linear', C=1.0)\n",
    "svm.fit(xtrain,ytrain)"
   ]
  },
  {
   "cell_type": "code",
   "execution_count": null,
   "id": "636a7afe-3cd7-469a-b331-d0e02e3a7ccc",
   "metadata": {},
   "outputs": [],
   "source": [
    "ypred_svm = svm.predict(xtest)\n",
    "print(\"Classification Report:\\n\")\n",
    "print(classification_report(ytest, ypred_svm))"
   ]
  },
  {
   "cell_type": "markdown",
   "id": "3bcc4c51-8e6e-4464-bd29-f4faf99e440f",
   "metadata": {},
   "source": [
    "# Apply Logistic Regression"
   ]
  },
  {
   "cell_type": "code",
   "execution_count": 171,
   "id": "222bda5f-025c-435d-bde2-b34001676677",
   "metadata": {},
   "outputs": [
    {
     "data": {
      "text/html": [
       "<style>#sk-container-id-11 {color: black;}#sk-container-id-11 pre{padding: 0;}#sk-container-id-11 div.sk-toggleable {background-color: white;}#sk-container-id-11 label.sk-toggleable__label {cursor: pointer;display: block;width: 100%;margin-bottom: 0;padding: 0.3em;box-sizing: border-box;text-align: center;}#sk-container-id-11 label.sk-toggleable__label-arrow:before {content: \"▸\";float: left;margin-right: 0.25em;color: #696969;}#sk-container-id-11 label.sk-toggleable__label-arrow:hover:before {color: black;}#sk-container-id-11 div.sk-estimator:hover label.sk-toggleable__label-arrow:before {color: black;}#sk-container-id-11 div.sk-toggleable__content {max-height: 0;max-width: 0;overflow: hidden;text-align: left;background-color: #f0f8ff;}#sk-container-id-11 div.sk-toggleable__content pre {margin: 0.2em;color: black;border-radius: 0.25em;background-color: #f0f8ff;}#sk-container-id-11 input.sk-toggleable__control:checked~div.sk-toggleable__content {max-height: 200px;max-width: 100%;overflow: auto;}#sk-container-id-11 input.sk-toggleable__control:checked~label.sk-toggleable__label-arrow:before {content: \"▾\";}#sk-container-id-11 div.sk-estimator input.sk-toggleable__control:checked~label.sk-toggleable__label {background-color: #d4ebff;}#sk-container-id-11 div.sk-label input.sk-toggleable__control:checked~label.sk-toggleable__label {background-color: #d4ebff;}#sk-container-id-11 input.sk-hidden--visually {border: 0;clip: rect(1px 1px 1px 1px);clip: rect(1px, 1px, 1px, 1px);height: 1px;margin: -1px;overflow: hidden;padding: 0;position: absolute;width: 1px;}#sk-container-id-11 div.sk-estimator {font-family: monospace;background-color: #f0f8ff;border: 1px dotted black;border-radius: 0.25em;box-sizing: border-box;margin-bottom: 0.5em;}#sk-container-id-11 div.sk-estimator:hover {background-color: #d4ebff;}#sk-container-id-11 div.sk-parallel-item::after {content: \"\";width: 100%;border-bottom: 1px solid gray;flex-grow: 1;}#sk-container-id-11 div.sk-label:hover label.sk-toggleable__label {background-color: #d4ebff;}#sk-container-id-11 div.sk-serial::before {content: \"\";position: absolute;border-left: 1px solid gray;box-sizing: border-box;top: 0;bottom: 0;left: 50%;z-index: 0;}#sk-container-id-11 div.sk-serial {display: flex;flex-direction: column;align-items: center;background-color: white;padding-right: 0.2em;padding-left: 0.2em;position: relative;}#sk-container-id-11 div.sk-item {position: relative;z-index: 1;}#sk-container-id-11 div.sk-parallel {display: flex;align-items: stretch;justify-content: center;background-color: white;position: relative;}#sk-container-id-11 div.sk-item::before, #sk-container-id-11 div.sk-parallel-item::before {content: \"\";position: absolute;border-left: 1px solid gray;box-sizing: border-box;top: 0;bottom: 0;left: 50%;z-index: -1;}#sk-container-id-11 div.sk-parallel-item {display: flex;flex-direction: column;z-index: 1;position: relative;background-color: white;}#sk-container-id-11 div.sk-parallel-item:first-child::after {align-self: flex-end;width: 50%;}#sk-container-id-11 div.sk-parallel-item:last-child::after {align-self: flex-start;width: 50%;}#sk-container-id-11 div.sk-parallel-item:only-child::after {width: 0;}#sk-container-id-11 div.sk-dashed-wrapped {border: 1px dashed gray;margin: 0 0.4em 0.5em 0.4em;box-sizing: border-box;padding-bottom: 0.4em;background-color: white;}#sk-container-id-11 div.sk-label label {font-family: monospace;font-weight: bold;display: inline-block;line-height: 1.2em;}#sk-container-id-11 div.sk-label-container {text-align: center;}#sk-container-id-11 div.sk-container {/* jupyter's `normalize.less` sets `[hidden] { display: none; }` but bootstrap.min.css set `[hidden] { display: none !important; }` so we also need the `!important` here to be able to override the default hidden behavior on the sphinx rendered scikit-learn.org. See: https://github.com/scikit-learn/scikit-learn/issues/21755 */display: inline-block !important;position: relative;}#sk-container-id-11 div.sk-text-repr-fallback {display: none;}</style><div id=\"sk-container-id-11\" class=\"sk-top-container\"><div class=\"sk-text-repr-fallback\"><pre>LogisticRegression()</pre><b>In a Jupyter environment, please rerun this cell to show the HTML representation or trust the notebook. <br />On GitHub, the HTML representation is unable to render, please try loading this page with nbviewer.org.</b></div><div class=\"sk-container\" hidden><div class=\"sk-item\"><div class=\"sk-estimator sk-toggleable\"><input class=\"sk-toggleable__control sk-hidden--visually\" id=\"sk-estimator-id-11\" type=\"checkbox\" checked><label for=\"sk-estimator-id-11\" class=\"sk-toggleable__label sk-toggleable__label-arrow\">LogisticRegression</label><div class=\"sk-toggleable__content\"><pre>LogisticRegression()</pre></div></div></div></div></div>"
      ],
      "text/plain": [
       "LogisticRegression()"
      ]
     },
     "execution_count": 171,
     "metadata": {},
     "output_type": "execute_result"
    }
   ],
   "source": [
    "lr = LogisticRegression()\n",
    "lr.fit(xtrain,ytrain)"
   ]
  },
  {
   "cell_type": "code",
   "execution_count": 172,
   "id": "6b48eca5-6db2-40f9-b0e0-f98f401b2ea6",
   "metadata": {},
   "outputs": [
    {
     "name": "stdout",
     "output_type": "stream",
     "text": [
      "Classification Report:\n",
      "\n",
      "               precision    recall  f1-score   support\n",
      "\n",
      "           0       0.00      0.00      0.00      3242\n",
      "           1       0.57      0.37      0.45      5655\n",
      "           2       0.57      0.85      0.68     10343\n",
      "\n",
      "    accuracy                           0.57     19240\n",
      "   macro avg       0.38      0.41      0.38     19240\n",
      "weighted avg       0.47      0.57      0.50     19240\n",
      "\n"
     ]
    }
   ],
   "source": [
    "y_predLR = lr.predict(xtest)\n",
    "print('Classification Report:\\n\\n', classification_report(ytest,y_predLR))"
   ]
  },
  {
   "cell_type": "markdown",
   "id": "15a9b9c1-7a7b-4208-8c4e-76886d710a62",
   "metadata": {},
   "source": [
    "# Applying Random forest"
   ]
  },
  {
   "cell_type": "code",
   "execution_count": 173,
   "id": "2266b17b-1251-49c5-a690-c0d251c2b712",
   "metadata": {},
   "outputs": [
    {
     "data": {
      "text/html": [
       "<style>#sk-container-id-12 {color: black;}#sk-container-id-12 pre{padding: 0;}#sk-container-id-12 div.sk-toggleable {background-color: white;}#sk-container-id-12 label.sk-toggleable__label {cursor: pointer;display: block;width: 100%;margin-bottom: 0;padding: 0.3em;box-sizing: border-box;text-align: center;}#sk-container-id-12 label.sk-toggleable__label-arrow:before {content: \"▸\";float: left;margin-right: 0.25em;color: #696969;}#sk-container-id-12 label.sk-toggleable__label-arrow:hover:before {color: black;}#sk-container-id-12 div.sk-estimator:hover label.sk-toggleable__label-arrow:before {color: black;}#sk-container-id-12 div.sk-toggleable__content {max-height: 0;max-width: 0;overflow: hidden;text-align: left;background-color: #f0f8ff;}#sk-container-id-12 div.sk-toggleable__content pre {margin: 0.2em;color: black;border-radius: 0.25em;background-color: #f0f8ff;}#sk-container-id-12 input.sk-toggleable__control:checked~div.sk-toggleable__content {max-height: 200px;max-width: 100%;overflow: auto;}#sk-container-id-12 input.sk-toggleable__control:checked~label.sk-toggleable__label-arrow:before {content: \"▾\";}#sk-container-id-12 div.sk-estimator input.sk-toggleable__control:checked~label.sk-toggleable__label {background-color: #d4ebff;}#sk-container-id-12 div.sk-label input.sk-toggleable__control:checked~label.sk-toggleable__label {background-color: #d4ebff;}#sk-container-id-12 input.sk-hidden--visually {border: 0;clip: rect(1px 1px 1px 1px);clip: rect(1px, 1px, 1px, 1px);height: 1px;margin: -1px;overflow: hidden;padding: 0;position: absolute;width: 1px;}#sk-container-id-12 div.sk-estimator {font-family: monospace;background-color: #f0f8ff;border: 1px dotted black;border-radius: 0.25em;box-sizing: border-box;margin-bottom: 0.5em;}#sk-container-id-12 div.sk-estimator:hover {background-color: #d4ebff;}#sk-container-id-12 div.sk-parallel-item::after {content: \"\";width: 100%;border-bottom: 1px solid gray;flex-grow: 1;}#sk-container-id-12 div.sk-label:hover label.sk-toggleable__label {background-color: #d4ebff;}#sk-container-id-12 div.sk-serial::before {content: \"\";position: absolute;border-left: 1px solid gray;box-sizing: border-box;top: 0;bottom: 0;left: 50%;z-index: 0;}#sk-container-id-12 div.sk-serial {display: flex;flex-direction: column;align-items: center;background-color: white;padding-right: 0.2em;padding-left: 0.2em;position: relative;}#sk-container-id-12 div.sk-item {position: relative;z-index: 1;}#sk-container-id-12 div.sk-parallel {display: flex;align-items: stretch;justify-content: center;background-color: white;position: relative;}#sk-container-id-12 div.sk-item::before, #sk-container-id-12 div.sk-parallel-item::before {content: \"\";position: absolute;border-left: 1px solid gray;box-sizing: border-box;top: 0;bottom: 0;left: 50%;z-index: -1;}#sk-container-id-12 div.sk-parallel-item {display: flex;flex-direction: column;z-index: 1;position: relative;background-color: white;}#sk-container-id-12 div.sk-parallel-item:first-child::after {align-self: flex-end;width: 50%;}#sk-container-id-12 div.sk-parallel-item:last-child::after {align-self: flex-start;width: 50%;}#sk-container-id-12 div.sk-parallel-item:only-child::after {width: 0;}#sk-container-id-12 div.sk-dashed-wrapped {border: 1px dashed gray;margin: 0 0.4em 0.5em 0.4em;box-sizing: border-box;padding-bottom: 0.4em;background-color: white;}#sk-container-id-12 div.sk-label label {font-family: monospace;font-weight: bold;display: inline-block;line-height: 1.2em;}#sk-container-id-12 div.sk-label-container {text-align: center;}#sk-container-id-12 div.sk-container {/* jupyter's `normalize.less` sets `[hidden] { display: none; }` but bootstrap.min.css set `[hidden] { display: none !important; }` so we also need the `!important` here to be able to override the default hidden behavior on the sphinx rendered scikit-learn.org. See: https://github.com/scikit-learn/scikit-learn/issues/21755 */display: inline-block !important;position: relative;}#sk-container-id-12 div.sk-text-repr-fallback {display: none;}</style><div id=\"sk-container-id-12\" class=\"sk-top-container\"><div class=\"sk-text-repr-fallback\"><pre>RandomForestClassifier()</pre><b>In a Jupyter environment, please rerun this cell to show the HTML representation or trust the notebook. <br />On GitHub, the HTML representation is unable to render, please try loading this page with nbviewer.org.</b></div><div class=\"sk-container\" hidden><div class=\"sk-item\"><div class=\"sk-estimator sk-toggleable\"><input class=\"sk-toggleable__control sk-hidden--visually\" id=\"sk-estimator-id-12\" type=\"checkbox\" checked><label for=\"sk-estimator-id-12\" class=\"sk-toggleable__label sk-toggleable__label-arrow\">RandomForestClassifier</label><div class=\"sk-toggleable__content\"><pre>RandomForestClassifier()</pre></div></div></div></div></div>"
      ],
      "text/plain": [
       "RandomForestClassifier()"
      ]
     },
     "execution_count": 173,
     "metadata": {},
     "output_type": "execute_result"
    }
   ],
   "source": [
    "rf = RandomForestClassifier()\n",
    "rf.fit(xtrain,ytrain)"
   ]
  },
  {
   "cell_type": "code",
   "execution_count": 174,
   "id": "b5a5cd7d-427e-4a8a-9fbf-65d960ab8d19",
   "metadata": {},
   "outputs": [
    {
     "name": "stdout",
     "output_type": "stream",
     "text": [
      "Classification Report\n",
      "\n",
      "               precision    recall  f1-score   support\n",
      "\n",
      "           0       0.79      0.73      0.76      3242\n",
      "           1       0.78      0.84      0.81      5655\n",
      "           2       0.83      0.81      0.82     10343\n",
      "\n",
      "    accuracy                           0.81     19240\n",
      "   macro avg       0.80      0.79      0.80     19240\n",
      "weighted avg       0.81      0.81      0.81     19240\n",
      "\n"
     ]
    }
   ],
   "source": [
    "y_predrf = rf.predict(xtest)\n",
    "\n",
    "print('Classification Report\\n\\n', classification_report(ytest,y_predrf))"
   ]
  },
  {
   "cell_type": "markdown",
   "id": "5fa2b1ba-03c7-4951-af2c-3d771c77a77d",
   "metadata": {},
   "source": [
    "# Applying Balanced RandomForest Classifier"
   ]
  },
  {
   "cell_type": "code",
   "execution_count": 175,
   "id": "62df0b67-91ae-48da-9b58-a39bbc017faf",
   "metadata": {},
   "outputs": [
    {
     "data": {
      "text/html": [
       "<style>#sk-container-id-13 {color: black;}#sk-container-id-13 pre{padding: 0;}#sk-container-id-13 div.sk-toggleable {background-color: white;}#sk-container-id-13 label.sk-toggleable__label {cursor: pointer;display: block;width: 100%;margin-bottom: 0;padding: 0.3em;box-sizing: border-box;text-align: center;}#sk-container-id-13 label.sk-toggleable__label-arrow:before {content: \"▸\";float: left;margin-right: 0.25em;color: #696969;}#sk-container-id-13 label.sk-toggleable__label-arrow:hover:before {color: black;}#sk-container-id-13 div.sk-estimator:hover label.sk-toggleable__label-arrow:before {color: black;}#sk-container-id-13 div.sk-toggleable__content {max-height: 0;max-width: 0;overflow: hidden;text-align: left;background-color: #f0f8ff;}#sk-container-id-13 div.sk-toggleable__content pre {margin: 0.2em;color: black;border-radius: 0.25em;background-color: #f0f8ff;}#sk-container-id-13 input.sk-toggleable__control:checked~div.sk-toggleable__content {max-height: 200px;max-width: 100%;overflow: auto;}#sk-container-id-13 input.sk-toggleable__control:checked~label.sk-toggleable__label-arrow:before {content: \"▾\";}#sk-container-id-13 div.sk-estimator input.sk-toggleable__control:checked~label.sk-toggleable__label {background-color: #d4ebff;}#sk-container-id-13 div.sk-label input.sk-toggleable__control:checked~label.sk-toggleable__label {background-color: #d4ebff;}#sk-container-id-13 input.sk-hidden--visually {border: 0;clip: rect(1px 1px 1px 1px);clip: rect(1px, 1px, 1px, 1px);height: 1px;margin: -1px;overflow: hidden;padding: 0;position: absolute;width: 1px;}#sk-container-id-13 div.sk-estimator {font-family: monospace;background-color: #f0f8ff;border: 1px dotted black;border-radius: 0.25em;box-sizing: border-box;margin-bottom: 0.5em;}#sk-container-id-13 div.sk-estimator:hover {background-color: #d4ebff;}#sk-container-id-13 div.sk-parallel-item::after {content: \"\";width: 100%;border-bottom: 1px solid gray;flex-grow: 1;}#sk-container-id-13 div.sk-label:hover label.sk-toggleable__label {background-color: #d4ebff;}#sk-container-id-13 div.sk-serial::before {content: \"\";position: absolute;border-left: 1px solid gray;box-sizing: border-box;top: 0;bottom: 0;left: 50%;z-index: 0;}#sk-container-id-13 div.sk-serial {display: flex;flex-direction: column;align-items: center;background-color: white;padding-right: 0.2em;padding-left: 0.2em;position: relative;}#sk-container-id-13 div.sk-item {position: relative;z-index: 1;}#sk-container-id-13 div.sk-parallel {display: flex;align-items: stretch;justify-content: center;background-color: white;position: relative;}#sk-container-id-13 div.sk-item::before, #sk-container-id-13 div.sk-parallel-item::before {content: \"\";position: absolute;border-left: 1px solid gray;box-sizing: border-box;top: 0;bottom: 0;left: 50%;z-index: -1;}#sk-container-id-13 div.sk-parallel-item {display: flex;flex-direction: column;z-index: 1;position: relative;background-color: white;}#sk-container-id-13 div.sk-parallel-item:first-child::after {align-self: flex-end;width: 50%;}#sk-container-id-13 div.sk-parallel-item:last-child::after {align-self: flex-start;width: 50%;}#sk-container-id-13 div.sk-parallel-item:only-child::after {width: 0;}#sk-container-id-13 div.sk-dashed-wrapped {border: 1px dashed gray;margin: 0 0.4em 0.5em 0.4em;box-sizing: border-box;padding-bottom: 0.4em;background-color: white;}#sk-container-id-13 div.sk-label label {font-family: monospace;font-weight: bold;display: inline-block;line-height: 1.2em;}#sk-container-id-13 div.sk-label-container {text-align: center;}#sk-container-id-13 div.sk-container {/* jupyter's `normalize.less` sets `[hidden] { display: none; }` but bootstrap.min.css set `[hidden] { display: none !important; }` so we also need the `!important` here to be able to override the default hidden behavior on the sphinx rendered scikit-learn.org. See: https://github.com/scikit-learn/scikit-learn/issues/21755 */display: inline-block !important;position: relative;}#sk-container-id-13 div.sk-text-repr-fallback {display: none;}</style><div id=\"sk-container-id-13\" class=\"sk-top-container\"><div class=\"sk-text-repr-fallback\"><pre>BalancedRandomForestClassifier(random_state=42)</pre><b>In a Jupyter environment, please rerun this cell to show the HTML representation or trust the notebook. <br />On GitHub, the HTML representation is unable to render, please try loading this page with nbviewer.org.</b></div><div class=\"sk-container\" hidden><div class=\"sk-item\"><div class=\"sk-estimator sk-toggleable\"><input class=\"sk-toggleable__control sk-hidden--visually\" id=\"sk-estimator-id-13\" type=\"checkbox\" checked><label for=\"sk-estimator-id-13\" class=\"sk-toggleable__label sk-toggleable__label-arrow\">BalancedRandomForestClassifier</label><div class=\"sk-toggleable__content\"><pre>BalancedRandomForestClassifier(random_state=42)</pre></div></div></div></div></div>"
      ],
      "text/plain": [
       "BalancedRandomForestClassifier(random_state=42)"
      ]
     },
     "execution_count": 175,
     "metadata": {},
     "output_type": "execute_result"
    }
   ],
   "source": [
    "br = BalancedRandomForestClassifier(random_state = 42)\n",
    "br.fit(xtrain,ytrain)"
   ]
  },
  {
   "cell_type": "code",
   "execution_count": 176,
   "id": "bfb67455-2d01-4f7f-885d-df0b0eb440bc",
   "metadata": {},
   "outputs": [
    {
     "name": "stdout",
     "output_type": "stream",
     "text": [
      "Classification Report\n",
      "\n",
      "               precision    recall  f1-score   support\n",
      "\n",
      "           0       0.63      0.85      0.73      3242\n",
      "           1       0.75      0.87      0.81      5655\n",
      "           2       0.89      0.71      0.79     10343\n",
      "\n",
      "    accuracy                           0.78     19240\n",
      "   macro avg       0.76      0.81      0.77     19240\n",
      "weighted avg       0.80      0.78      0.78     19240\n",
      "\n"
     ]
    }
   ],
   "source": [
    "y_predbr = br.predict(xtest)\n",
    "\n",
    "print('Classification Report\\n\\n', classification_report(ytest,y_predbr))"
   ]
  },
  {
   "cell_type": "markdown",
   "id": "e9182a2e-1ed4-4f64-8889-002205c2e4f2",
   "metadata": {},
   "source": [
    "# Applying XGBoost"
   ]
  },
  {
   "cell_type": "code",
   "execution_count": 177,
   "id": "471dbc3d-a22f-4a97-8c3a-2e917b4c98a9",
   "metadata": {},
   "outputs": [
    {
     "data": {
      "text/html": [
       "<style>#sk-container-id-14 {color: black;}#sk-container-id-14 pre{padding: 0;}#sk-container-id-14 div.sk-toggleable {background-color: white;}#sk-container-id-14 label.sk-toggleable__label {cursor: pointer;display: block;width: 100%;margin-bottom: 0;padding: 0.3em;box-sizing: border-box;text-align: center;}#sk-container-id-14 label.sk-toggleable__label-arrow:before {content: \"▸\";float: left;margin-right: 0.25em;color: #696969;}#sk-container-id-14 label.sk-toggleable__label-arrow:hover:before {color: black;}#sk-container-id-14 div.sk-estimator:hover label.sk-toggleable__label-arrow:before {color: black;}#sk-container-id-14 div.sk-toggleable__content {max-height: 0;max-width: 0;overflow: hidden;text-align: left;background-color: #f0f8ff;}#sk-container-id-14 div.sk-toggleable__content pre {margin: 0.2em;color: black;border-radius: 0.25em;background-color: #f0f8ff;}#sk-container-id-14 input.sk-toggleable__control:checked~div.sk-toggleable__content {max-height: 200px;max-width: 100%;overflow: auto;}#sk-container-id-14 input.sk-toggleable__control:checked~label.sk-toggleable__label-arrow:before {content: \"▾\";}#sk-container-id-14 div.sk-estimator input.sk-toggleable__control:checked~label.sk-toggleable__label {background-color: #d4ebff;}#sk-container-id-14 div.sk-label input.sk-toggleable__control:checked~label.sk-toggleable__label {background-color: #d4ebff;}#sk-container-id-14 input.sk-hidden--visually {border: 0;clip: rect(1px 1px 1px 1px);clip: rect(1px, 1px, 1px, 1px);height: 1px;margin: -1px;overflow: hidden;padding: 0;position: absolute;width: 1px;}#sk-container-id-14 div.sk-estimator {font-family: monospace;background-color: #f0f8ff;border: 1px dotted black;border-radius: 0.25em;box-sizing: border-box;margin-bottom: 0.5em;}#sk-container-id-14 div.sk-estimator:hover {background-color: #d4ebff;}#sk-container-id-14 div.sk-parallel-item::after {content: \"\";width: 100%;border-bottom: 1px solid gray;flex-grow: 1;}#sk-container-id-14 div.sk-label:hover label.sk-toggleable__label {background-color: #d4ebff;}#sk-container-id-14 div.sk-serial::before {content: \"\";position: absolute;border-left: 1px solid gray;box-sizing: border-box;top: 0;bottom: 0;left: 50%;z-index: 0;}#sk-container-id-14 div.sk-serial {display: flex;flex-direction: column;align-items: center;background-color: white;padding-right: 0.2em;padding-left: 0.2em;position: relative;}#sk-container-id-14 div.sk-item {position: relative;z-index: 1;}#sk-container-id-14 div.sk-parallel {display: flex;align-items: stretch;justify-content: center;background-color: white;position: relative;}#sk-container-id-14 div.sk-item::before, #sk-container-id-14 div.sk-parallel-item::before {content: \"\";position: absolute;border-left: 1px solid gray;box-sizing: border-box;top: 0;bottom: 0;left: 50%;z-index: -1;}#sk-container-id-14 div.sk-parallel-item {display: flex;flex-direction: column;z-index: 1;position: relative;background-color: white;}#sk-container-id-14 div.sk-parallel-item:first-child::after {align-self: flex-end;width: 50%;}#sk-container-id-14 div.sk-parallel-item:last-child::after {align-self: flex-start;width: 50%;}#sk-container-id-14 div.sk-parallel-item:only-child::after {width: 0;}#sk-container-id-14 div.sk-dashed-wrapped {border: 1px dashed gray;margin: 0 0.4em 0.5em 0.4em;box-sizing: border-box;padding-bottom: 0.4em;background-color: white;}#sk-container-id-14 div.sk-label label {font-family: monospace;font-weight: bold;display: inline-block;line-height: 1.2em;}#sk-container-id-14 div.sk-label-container {text-align: center;}#sk-container-id-14 div.sk-container {/* jupyter's `normalize.less` sets `[hidden] { display: none; }` but bootstrap.min.css set `[hidden] { display: none !important; }` so we also need the `!important` here to be able to override the default hidden behavior on the sphinx rendered scikit-learn.org. See: https://github.com/scikit-learn/scikit-learn/issues/21755 */display: inline-block !important;position: relative;}#sk-container-id-14 div.sk-text-repr-fallback {display: none;}</style><div id=\"sk-container-id-14\" class=\"sk-top-container\"><div class=\"sk-text-repr-fallback\"><pre>XGBClassifier(base_score=None, booster=None, callbacks=None,\n",
       "              colsample_bylevel=None, colsample_bynode=None,\n",
       "              colsample_bytree=None, early_stopping_rounds=None,\n",
       "              enable_categorical=False, eval_metric=None, feature_types=None,\n",
       "              gamma=None, gpu_id=None, grow_policy=None, importance_type=None,\n",
       "              interaction_constraints=None, learning_rate=None, max_bin=None,\n",
       "              max_cat_threshold=None, max_cat_to_onehot=None,\n",
       "              max_delta_step=None, max_depth=None, max_leaves=None,\n",
       "              min_child_weight=None, missing=nan, monotone_constraints=None,\n",
       "              n_estimators=100, n_jobs=None, num_parallel_tree=None,\n",
       "              objective=&#x27;multi:softprob&#x27;, predictor=None, ...)</pre><b>In a Jupyter environment, please rerun this cell to show the HTML representation or trust the notebook. <br />On GitHub, the HTML representation is unable to render, please try loading this page with nbviewer.org.</b></div><div class=\"sk-container\" hidden><div class=\"sk-item\"><div class=\"sk-estimator sk-toggleable\"><input class=\"sk-toggleable__control sk-hidden--visually\" id=\"sk-estimator-id-14\" type=\"checkbox\" checked><label for=\"sk-estimator-id-14\" class=\"sk-toggleable__label sk-toggleable__label-arrow\">XGBClassifier</label><div class=\"sk-toggleable__content\"><pre>XGBClassifier(base_score=None, booster=None, callbacks=None,\n",
       "              colsample_bylevel=None, colsample_bynode=None,\n",
       "              colsample_bytree=None, early_stopping_rounds=None,\n",
       "              enable_categorical=False, eval_metric=None, feature_types=None,\n",
       "              gamma=None, gpu_id=None, grow_policy=None, importance_type=None,\n",
       "              interaction_constraints=None, learning_rate=None, max_bin=None,\n",
       "              max_cat_threshold=None, max_cat_to_onehot=None,\n",
       "              max_delta_step=None, max_depth=None, max_leaves=None,\n",
       "              min_child_weight=None, missing=nan, monotone_constraints=None,\n",
       "              n_estimators=100, n_jobs=None, num_parallel_tree=None,\n",
       "              objective=&#x27;multi:softprob&#x27;, predictor=None, ...)</pre></div></div></div></div></div>"
      ],
      "text/plain": [
       "XGBClassifier(base_score=None, booster=None, callbacks=None,\n",
       "              colsample_bylevel=None, colsample_bynode=None,\n",
       "              colsample_bytree=None, early_stopping_rounds=None,\n",
       "              enable_categorical=False, eval_metric=None, feature_types=None,\n",
       "              gamma=None, gpu_id=None, grow_policy=None, importance_type=None,\n",
       "              interaction_constraints=None, learning_rate=None, max_bin=None,\n",
       "              max_cat_threshold=None, max_cat_to_onehot=None,\n",
       "              max_delta_step=None, max_depth=None, max_leaves=None,\n",
       "              min_child_weight=None, missing=nan, monotone_constraints=None,\n",
       "              n_estimators=100, n_jobs=None, num_parallel_tree=None,\n",
       "              objective='multi:softprob', predictor=None, ...)"
      ]
     },
     "execution_count": 177,
     "metadata": {},
     "output_type": "execute_result"
    }
   ],
   "source": [
    "xg = XGBClassifier(random_state = 42)\n",
    "xg.fit(xtrain,ytrain)"
   ]
  },
  {
   "cell_type": "code",
   "execution_count": 178,
   "id": "3d64d901-8977-4ec8-b1c2-d490207c8f52",
   "metadata": {},
   "outputs": [
    {
     "name": "stdout",
     "output_type": "stream",
     "text": [
      "Classification Report\n",
      "\n",
      "               precision    recall  f1-score   support\n",
      "\n",
      "           0       0.70      0.72      0.71      3242\n",
      "           1       0.76      0.75      0.76      5655\n",
      "           2       0.80      0.80      0.80     10343\n",
      "\n",
      "    accuracy                           0.77     19240\n",
      "   macro avg       0.75      0.76      0.76     19240\n",
      "weighted avg       0.77      0.77      0.77     19240\n",
      "\n"
     ]
    }
   ],
   "source": [
    "y_predxg = xg.predict(xtest)\n",
    "\n",
    "print('Classification Report\\n\\n', classification_report(ytest,y_predxg))"
   ]
  },
  {
   "cell_type": "markdown",
   "id": "e93b7aa6-eef9-4dd5-863d-1649cfdf33f6",
   "metadata": {},
   "source": [
    "# Applying AdaBoost"
   ]
  },
  {
   "cell_type": "code",
   "execution_count": 179,
   "id": "e2db3554-c526-4017-a524-af49d6de572d",
   "metadata": {},
   "outputs": [
    {
     "data": {
      "text/html": [
       "<style>#sk-container-id-15 {color: black;}#sk-container-id-15 pre{padding: 0;}#sk-container-id-15 div.sk-toggleable {background-color: white;}#sk-container-id-15 label.sk-toggleable__label {cursor: pointer;display: block;width: 100%;margin-bottom: 0;padding: 0.3em;box-sizing: border-box;text-align: center;}#sk-container-id-15 label.sk-toggleable__label-arrow:before {content: \"▸\";float: left;margin-right: 0.25em;color: #696969;}#sk-container-id-15 label.sk-toggleable__label-arrow:hover:before {color: black;}#sk-container-id-15 div.sk-estimator:hover label.sk-toggleable__label-arrow:before {color: black;}#sk-container-id-15 div.sk-toggleable__content {max-height: 0;max-width: 0;overflow: hidden;text-align: left;background-color: #f0f8ff;}#sk-container-id-15 div.sk-toggleable__content pre {margin: 0.2em;color: black;border-radius: 0.25em;background-color: #f0f8ff;}#sk-container-id-15 input.sk-toggleable__control:checked~div.sk-toggleable__content {max-height: 200px;max-width: 100%;overflow: auto;}#sk-container-id-15 input.sk-toggleable__control:checked~label.sk-toggleable__label-arrow:before {content: \"▾\";}#sk-container-id-15 div.sk-estimator input.sk-toggleable__control:checked~label.sk-toggleable__label {background-color: #d4ebff;}#sk-container-id-15 div.sk-label input.sk-toggleable__control:checked~label.sk-toggleable__label {background-color: #d4ebff;}#sk-container-id-15 input.sk-hidden--visually {border: 0;clip: rect(1px 1px 1px 1px);clip: rect(1px, 1px, 1px, 1px);height: 1px;margin: -1px;overflow: hidden;padding: 0;position: absolute;width: 1px;}#sk-container-id-15 div.sk-estimator {font-family: monospace;background-color: #f0f8ff;border: 1px dotted black;border-radius: 0.25em;box-sizing: border-box;margin-bottom: 0.5em;}#sk-container-id-15 div.sk-estimator:hover {background-color: #d4ebff;}#sk-container-id-15 div.sk-parallel-item::after {content: \"\";width: 100%;border-bottom: 1px solid gray;flex-grow: 1;}#sk-container-id-15 div.sk-label:hover label.sk-toggleable__label {background-color: #d4ebff;}#sk-container-id-15 div.sk-serial::before {content: \"\";position: absolute;border-left: 1px solid gray;box-sizing: border-box;top: 0;bottom: 0;left: 50%;z-index: 0;}#sk-container-id-15 div.sk-serial {display: flex;flex-direction: column;align-items: center;background-color: white;padding-right: 0.2em;padding-left: 0.2em;position: relative;}#sk-container-id-15 div.sk-item {position: relative;z-index: 1;}#sk-container-id-15 div.sk-parallel {display: flex;align-items: stretch;justify-content: center;background-color: white;position: relative;}#sk-container-id-15 div.sk-item::before, #sk-container-id-15 div.sk-parallel-item::before {content: \"\";position: absolute;border-left: 1px solid gray;box-sizing: border-box;top: 0;bottom: 0;left: 50%;z-index: -1;}#sk-container-id-15 div.sk-parallel-item {display: flex;flex-direction: column;z-index: 1;position: relative;background-color: white;}#sk-container-id-15 div.sk-parallel-item:first-child::after {align-self: flex-end;width: 50%;}#sk-container-id-15 div.sk-parallel-item:last-child::after {align-self: flex-start;width: 50%;}#sk-container-id-15 div.sk-parallel-item:only-child::after {width: 0;}#sk-container-id-15 div.sk-dashed-wrapped {border: 1px dashed gray;margin: 0 0.4em 0.5em 0.4em;box-sizing: border-box;padding-bottom: 0.4em;background-color: white;}#sk-container-id-15 div.sk-label label {font-family: monospace;font-weight: bold;display: inline-block;line-height: 1.2em;}#sk-container-id-15 div.sk-label-container {text-align: center;}#sk-container-id-15 div.sk-container {/* jupyter's `normalize.less` sets `[hidden] { display: none; }` but bootstrap.min.css set `[hidden] { display: none !important; }` so we also need the `!important` here to be able to override the default hidden behavior on the sphinx rendered scikit-learn.org. See: https://github.com/scikit-learn/scikit-learn/issues/21755 */display: inline-block !important;position: relative;}#sk-container-id-15 div.sk-text-repr-fallback {display: none;}</style><div id=\"sk-container-id-15\" class=\"sk-top-container\"><div class=\"sk-text-repr-fallback\"><pre>AdaBoostClassifier(random_state=42)</pre><b>In a Jupyter environment, please rerun this cell to show the HTML representation or trust the notebook. <br />On GitHub, the HTML representation is unable to render, please try loading this page with nbviewer.org.</b></div><div class=\"sk-container\" hidden><div class=\"sk-item\"><div class=\"sk-estimator sk-toggleable\"><input class=\"sk-toggleable__control sk-hidden--visually\" id=\"sk-estimator-id-15\" type=\"checkbox\" checked><label for=\"sk-estimator-id-15\" class=\"sk-toggleable__label sk-toggleable__label-arrow\">AdaBoostClassifier</label><div class=\"sk-toggleable__content\"><pre>AdaBoostClassifier(random_state=42)</pre></div></div></div></div></div>"
      ],
      "text/plain": [
       "AdaBoostClassifier(random_state=42)"
      ]
     },
     "execution_count": 179,
     "metadata": {},
     "output_type": "execute_result"
    }
   ],
   "source": [
    "ada = AdaBoostClassifier(random_state = 42)\n",
    "ada.fit(xtrain,ytrain)"
   ]
  },
  {
   "cell_type": "code",
   "execution_count": 180,
   "id": "3503d970-0594-49dc-9ad2-8c4c1c05ac47",
   "metadata": {},
   "outputs": [
    {
     "name": "stdout",
     "output_type": "stream",
     "text": [
      "Classification Report\n",
      "\n",
      "               precision    recall  f1-score   support\n",
      "\n",
      "           0       0.54      0.53      0.54      3242\n",
      "           1       0.67      0.59      0.62      5655\n",
      "           2       0.69      0.74      0.72     10343\n",
      "\n",
      "    accuracy                           0.66     19240\n",
      "   macro avg       0.63      0.62      0.63     19240\n",
      "weighted avg       0.66      0.66      0.66     19240\n",
      "\n"
     ]
    }
   ],
   "source": [
    "y_predada = ada.predict(xtest)\n",
    "\n",
    "print('Classification Report\\n\\n', classification_report(ytest,y_predada))"
   ]
  },
  {
   "cell_type": "markdown",
   "id": "60a16aac-2f59-4860-8d2b-71156b5faea2",
   "metadata": {},
   "source": [
    "# Hyperparameter Optimization of Random Forest for Randomized Search"
   ]
  },
  {
   "cell_type": "code",
   "execution_count": 72,
   "id": "ba26fc94-d0da-4be4-9081-f627421d893b",
   "metadata": {},
   "outputs": [],
   "source": [
    "rf_params = {\n",
    "    'n_estimators': [100, 200, 300],\n",
    "    'max_depth': [10, 20, 30, None],\n",
    "    'min_samples_split': [2, 5, 10],\n",
    "    'min_samples_leaf': [1, 2, 4],\n",
    "    'bootstrap': [True, False],\n",
    "    'random_state': [42]\n",
    "}"
   ]
  },
  {
   "cell_type": "code",
   "execution_count": 73,
   "id": "b4ee44c1-406d-4976-83bd-36bb52b64507",
   "metadata": {},
   "outputs": [
    {
     "data": {
      "text/html": [
       "<style>#sk-container-id-9 {color: black;}#sk-container-id-9 pre{padding: 0;}#sk-container-id-9 div.sk-toggleable {background-color: white;}#sk-container-id-9 label.sk-toggleable__label {cursor: pointer;display: block;width: 100%;margin-bottom: 0;padding: 0.3em;box-sizing: border-box;text-align: center;}#sk-container-id-9 label.sk-toggleable__label-arrow:before {content: \"▸\";float: left;margin-right: 0.25em;color: #696969;}#sk-container-id-9 label.sk-toggleable__label-arrow:hover:before {color: black;}#sk-container-id-9 div.sk-estimator:hover label.sk-toggleable__label-arrow:before {color: black;}#sk-container-id-9 div.sk-toggleable__content {max-height: 0;max-width: 0;overflow: hidden;text-align: left;background-color: #f0f8ff;}#sk-container-id-9 div.sk-toggleable__content pre {margin: 0.2em;color: black;border-radius: 0.25em;background-color: #f0f8ff;}#sk-container-id-9 input.sk-toggleable__control:checked~div.sk-toggleable__content {max-height: 200px;max-width: 100%;overflow: auto;}#sk-container-id-9 input.sk-toggleable__control:checked~label.sk-toggleable__label-arrow:before {content: \"▾\";}#sk-container-id-9 div.sk-estimator input.sk-toggleable__control:checked~label.sk-toggleable__label {background-color: #d4ebff;}#sk-container-id-9 div.sk-label input.sk-toggleable__control:checked~label.sk-toggleable__label {background-color: #d4ebff;}#sk-container-id-9 input.sk-hidden--visually {border: 0;clip: rect(1px 1px 1px 1px);clip: rect(1px, 1px, 1px, 1px);height: 1px;margin: -1px;overflow: hidden;padding: 0;position: absolute;width: 1px;}#sk-container-id-9 div.sk-estimator {font-family: monospace;background-color: #f0f8ff;border: 1px dotted black;border-radius: 0.25em;box-sizing: border-box;margin-bottom: 0.5em;}#sk-container-id-9 div.sk-estimator:hover {background-color: #d4ebff;}#sk-container-id-9 div.sk-parallel-item::after {content: \"\";width: 100%;border-bottom: 1px solid gray;flex-grow: 1;}#sk-container-id-9 div.sk-label:hover label.sk-toggleable__label {background-color: #d4ebff;}#sk-container-id-9 div.sk-serial::before {content: \"\";position: absolute;border-left: 1px solid gray;box-sizing: border-box;top: 0;bottom: 0;left: 50%;z-index: 0;}#sk-container-id-9 div.sk-serial {display: flex;flex-direction: column;align-items: center;background-color: white;padding-right: 0.2em;padding-left: 0.2em;position: relative;}#sk-container-id-9 div.sk-item {position: relative;z-index: 1;}#sk-container-id-9 div.sk-parallel {display: flex;align-items: stretch;justify-content: center;background-color: white;position: relative;}#sk-container-id-9 div.sk-item::before, #sk-container-id-9 div.sk-parallel-item::before {content: \"\";position: absolute;border-left: 1px solid gray;box-sizing: border-box;top: 0;bottom: 0;left: 50%;z-index: -1;}#sk-container-id-9 div.sk-parallel-item {display: flex;flex-direction: column;z-index: 1;position: relative;background-color: white;}#sk-container-id-9 div.sk-parallel-item:first-child::after {align-self: flex-end;width: 50%;}#sk-container-id-9 div.sk-parallel-item:last-child::after {align-self: flex-start;width: 50%;}#sk-container-id-9 div.sk-parallel-item:only-child::after {width: 0;}#sk-container-id-9 div.sk-dashed-wrapped {border: 1px dashed gray;margin: 0 0.4em 0.5em 0.4em;box-sizing: border-box;padding-bottom: 0.4em;background-color: white;}#sk-container-id-9 div.sk-label label {font-family: monospace;font-weight: bold;display: inline-block;line-height: 1.2em;}#sk-container-id-9 div.sk-label-container {text-align: center;}#sk-container-id-9 div.sk-container {/* jupyter's `normalize.less` sets `[hidden] { display: none; }` but bootstrap.min.css set `[hidden] { display: none !important; }` so we also need the `!important` here to be able to override the default hidden behavior on the sphinx rendered scikit-learn.org. See: https://github.com/scikit-learn/scikit-learn/issues/21755 */display: inline-block !important;position: relative;}#sk-container-id-9 div.sk-text-repr-fallback {display: none;}</style><div id=\"sk-container-id-9\" class=\"sk-top-container\"><div class=\"sk-text-repr-fallback\"><pre>RandomizedSearchCV(cv=5, estimator=RandomForestClassifier(random_state=42),\n",
       "                   param_distributions={&#x27;bootstrap&#x27;: [True, False],\n",
       "                                        &#x27;max_depth&#x27;: [10, 20, 30, None],\n",
       "                                        &#x27;min_samples_leaf&#x27;: [1, 2, 4],\n",
       "                                        &#x27;min_samples_split&#x27;: [2, 5, 10],\n",
       "                                        &#x27;n_estimators&#x27;: [100, 200, 300],\n",
       "                                        &#x27;random_state&#x27;: [42]})</pre><b>In a Jupyter environment, please rerun this cell to show the HTML representation or trust the notebook. <br />On GitHub, the HTML representation is unable to render, please try loading this page with nbviewer.org.</b></div><div class=\"sk-container\" hidden><div class=\"sk-item sk-dashed-wrapped\"><div class=\"sk-label-container\"><div class=\"sk-label sk-toggleable\"><input class=\"sk-toggleable__control sk-hidden--visually\" id=\"sk-estimator-id-17\" type=\"checkbox\" ><label for=\"sk-estimator-id-17\" class=\"sk-toggleable__label sk-toggleable__label-arrow\">RandomizedSearchCV</label><div class=\"sk-toggleable__content\"><pre>RandomizedSearchCV(cv=5, estimator=RandomForestClassifier(random_state=42),\n",
       "                   param_distributions={&#x27;bootstrap&#x27;: [True, False],\n",
       "                                        &#x27;max_depth&#x27;: [10, 20, 30, None],\n",
       "                                        &#x27;min_samples_leaf&#x27;: [1, 2, 4],\n",
       "                                        &#x27;min_samples_split&#x27;: [2, 5, 10],\n",
       "                                        &#x27;n_estimators&#x27;: [100, 200, 300],\n",
       "                                        &#x27;random_state&#x27;: [42]})</pre></div></div></div><div class=\"sk-parallel\"><div class=\"sk-parallel-item\"><div class=\"sk-item\"><div class=\"sk-label-container\"><div class=\"sk-label sk-toggleable\"><input class=\"sk-toggleable__control sk-hidden--visually\" id=\"sk-estimator-id-18\" type=\"checkbox\" ><label for=\"sk-estimator-id-18\" class=\"sk-toggleable__label sk-toggleable__label-arrow\">estimator: RandomForestClassifier</label><div class=\"sk-toggleable__content\"><pre>RandomForestClassifier(random_state=42)</pre></div></div></div><div class=\"sk-serial\"><div class=\"sk-item\"><div class=\"sk-estimator sk-toggleable\"><input class=\"sk-toggleable__control sk-hidden--visually\" id=\"sk-estimator-id-19\" type=\"checkbox\" ><label for=\"sk-estimator-id-19\" class=\"sk-toggleable__label sk-toggleable__label-arrow\">RandomForestClassifier</label><div class=\"sk-toggleable__content\"><pre>RandomForestClassifier(random_state=42)</pre></div></div></div></div></div></div></div></div></div></div>"
      ],
      "text/plain": [
       "RandomizedSearchCV(cv=5, estimator=RandomForestClassifier(random_state=42),\n",
       "                   param_distributions={'bootstrap': [True, False],\n",
       "                                        'max_depth': [10, 20, 30, None],\n",
       "                                        'min_samples_leaf': [1, 2, 4],\n",
       "                                        'min_samples_split': [2, 5, 10],\n",
       "                                        'n_estimators': [100, 200, 300],\n",
       "                                        'random_state': [42]})"
      ]
     },
     "execution_count": 73,
     "metadata": {},
     "output_type": "execute_result"
    }
   ],
   "source": [
    "rf_rs = RandomizedSearchCV(estimator = RandomForestClassifier(random_state = 42), \n",
    "                            param_distributions = rf_params, n_iter = 10, cv = 5)\n",
    "rf_rs.fit(x_combined, y_combined)"
   ]
  },
  {
   "cell_type": "code",
   "execution_count": 74,
   "id": "811cfd06-9764-4151-9c07-6e954362753a",
   "metadata": {},
   "outputs": [
    {
     "data": {
      "text/plain": [
       "{'random_state': 42,\n",
       " 'n_estimators': 100,\n",
       " 'min_samples_split': 2,\n",
       " 'min_samples_leaf': 1,\n",
       " 'max_depth': 30,\n",
       " 'bootstrap': False}"
      ]
     },
     "execution_count": 74,
     "metadata": {},
     "output_type": "execute_result"
    }
   ],
   "source": [
    "rf_rs.best_params_"
   ]
  },
  {
   "cell_type": "code",
   "execution_count": 75,
   "id": "22c8e6b3-239f-4db0-89de-b72d9f6dbc00",
   "metadata": {},
   "outputs": [
    {
     "name": "stdout",
     "output_type": "stream",
     "text": [
      "Classification Report\n",
      "\n",
      "               precision    recall  f1-score   support\n",
      "\n",
      "           0       0.69      0.77      0.73      3242\n",
      "           1       0.77      0.83      0.80      5655\n",
      "           2       0.84      0.77      0.80     10343\n",
      "\n",
      "    accuracy                           0.79     19240\n",
      "   macro avg       0.77      0.79      0.78     19240\n",
      "weighted avg       0.79      0.79      0.79     19240\n",
      "\n"
     ]
    }
   ],
   "source": [
    "y_predrf_rs = rf_rs.predict(xtest)\n",
    "\n",
    "print('Classification Report\\n\\n', classification_report(ytest,y_predrf_rs))"
   ]
  },
  {
   "cell_type": "markdown",
   "id": "05702da0-c412-4922-8a0a-af86846e063d",
   "metadata": {},
   "source": [
    "# Hyperparameter Optimization of AdaBoost for Randomized Search"
   ]
  },
  {
   "cell_type": "code",
   "execution_count": 81,
   "id": "1e3b255a-9fe2-4fc6-969f-df4a00874204",
   "metadata": {},
   "outputs": [],
   "source": [
    "ada_params = {\n",
    "    'n_estimators' : [100,200,300],\n",
    "    'learning_rate' : [0.0001, 0.001, 0.1, 1.0],\n",
    "    'algorithm' : ['SAMME', 'SAMME.R']\n",
    "}"
   ]
  },
  {
   "cell_type": "code",
   "execution_count": 82,
   "id": "daafc065-7f30-439a-a9e9-0bc13fb6a6b6",
   "metadata": {},
   "outputs": [
    {
     "data": {
      "text/html": [
       "<style>#sk-container-id-10 {color: black;}#sk-container-id-10 pre{padding: 0;}#sk-container-id-10 div.sk-toggleable {background-color: white;}#sk-container-id-10 label.sk-toggleable__label {cursor: pointer;display: block;width: 100%;margin-bottom: 0;padding: 0.3em;box-sizing: border-box;text-align: center;}#sk-container-id-10 label.sk-toggleable__label-arrow:before {content: \"▸\";float: left;margin-right: 0.25em;color: #696969;}#sk-container-id-10 label.sk-toggleable__label-arrow:hover:before {color: black;}#sk-container-id-10 div.sk-estimator:hover label.sk-toggleable__label-arrow:before {color: black;}#sk-container-id-10 div.sk-toggleable__content {max-height: 0;max-width: 0;overflow: hidden;text-align: left;background-color: #f0f8ff;}#sk-container-id-10 div.sk-toggleable__content pre {margin: 0.2em;color: black;border-radius: 0.25em;background-color: #f0f8ff;}#sk-container-id-10 input.sk-toggleable__control:checked~div.sk-toggleable__content {max-height: 200px;max-width: 100%;overflow: auto;}#sk-container-id-10 input.sk-toggleable__control:checked~label.sk-toggleable__label-arrow:before {content: \"▾\";}#sk-container-id-10 div.sk-estimator input.sk-toggleable__control:checked~label.sk-toggleable__label {background-color: #d4ebff;}#sk-container-id-10 div.sk-label input.sk-toggleable__control:checked~label.sk-toggleable__label {background-color: #d4ebff;}#sk-container-id-10 input.sk-hidden--visually {border: 0;clip: rect(1px 1px 1px 1px);clip: rect(1px, 1px, 1px, 1px);height: 1px;margin: -1px;overflow: hidden;padding: 0;position: absolute;width: 1px;}#sk-container-id-10 div.sk-estimator {font-family: monospace;background-color: #f0f8ff;border: 1px dotted black;border-radius: 0.25em;box-sizing: border-box;margin-bottom: 0.5em;}#sk-container-id-10 div.sk-estimator:hover {background-color: #d4ebff;}#sk-container-id-10 div.sk-parallel-item::after {content: \"\";width: 100%;border-bottom: 1px solid gray;flex-grow: 1;}#sk-container-id-10 div.sk-label:hover label.sk-toggleable__label {background-color: #d4ebff;}#sk-container-id-10 div.sk-serial::before {content: \"\";position: absolute;border-left: 1px solid gray;box-sizing: border-box;top: 0;bottom: 0;left: 50%;z-index: 0;}#sk-container-id-10 div.sk-serial {display: flex;flex-direction: column;align-items: center;background-color: white;padding-right: 0.2em;padding-left: 0.2em;position: relative;}#sk-container-id-10 div.sk-item {position: relative;z-index: 1;}#sk-container-id-10 div.sk-parallel {display: flex;align-items: stretch;justify-content: center;background-color: white;position: relative;}#sk-container-id-10 div.sk-item::before, #sk-container-id-10 div.sk-parallel-item::before {content: \"\";position: absolute;border-left: 1px solid gray;box-sizing: border-box;top: 0;bottom: 0;left: 50%;z-index: -1;}#sk-container-id-10 div.sk-parallel-item {display: flex;flex-direction: column;z-index: 1;position: relative;background-color: white;}#sk-container-id-10 div.sk-parallel-item:first-child::after {align-self: flex-end;width: 50%;}#sk-container-id-10 div.sk-parallel-item:last-child::after {align-self: flex-start;width: 50%;}#sk-container-id-10 div.sk-parallel-item:only-child::after {width: 0;}#sk-container-id-10 div.sk-dashed-wrapped {border: 1px dashed gray;margin: 0 0.4em 0.5em 0.4em;box-sizing: border-box;padding-bottom: 0.4em;background-color: white;}#sk-container-id-10 div.sk-label label {font-family: monospace;font-weight: bold;display: inline-block;line-height: 1.2em;}#sk-container-id-10 div.sk-label-container {text-align: center;}#sk-container-id-10 div.sk-container {/* jupyter's `normalize.less` sets `[hidden] { display: none; }` but bootstrap.min.css set `[hidden] { display: none !important; }` so we also need the `!important` here to be able to override the default hidden behavior on the sphinx rendered scikit-learn.org. See: https://github.com/scikit-learn/scikit-learn/issues/21755 */display: inline-block !important;position: relative;}#sk-container-id-10 div.sk-text-repr-fallback {display: none;}</style><div id=\"sk-container-id-10\" class=\"sk-top-container\"><div class=\"sk-text-repr-fallback\"><pre>RandomizedSearchCV(cv=5, estimator=AdaBoostClassifier(random_state=42),\n",
       "                   param_distributions={&#x27;algorithm&#x27;: [&#x27;SAMME&#x27;, &#x27;SAMME.R&#x27;],\n",
       "                                        &#x27;learning_rate&#x27;: [0.0001, 0.001, 0.1,\n",
       "                                                          1.0],\n",
       "                                        &#x27;n_estimators&#x27;: [100, 200, 300]})</pre><b>In a Jupyter environment, please rerun this cell to show the HTML representation or trust the notebook. <br />On GitHub, the HTML representation is unable to render, please try loading this page with nbviewer.org.</b></div><div class=\"sk-container\" hidden><div class=\"sk-item sk-dashed-wrapped\"><div class=\"sk-label-container\"><div class=\"sk-label sk-toggleable\"><input class=\"sk-toggleable__control sk-hidden--visually\" id=\"sk-estimator-id-20\" type=\"checkbox\" ><label for=\"sk-estimator-id-20\" class=\"sk-toggleable__label sk-toggleable__label-arrow\">RandomizedSearchCV</label><div class=\"sk-toggleable__content\"><pre>RandomizedSearchCV(cv=5, estimator=AdaBoostClassifier(random_state=42),\n",
       "                   param_distributions={&#x27;algorithm&#x27;: [&#x27;SAMME&#x27;, &#x27;SAMME.R&#x27;],\n",
       "                                        &#x27;learning_rate&#x27;: [0.0001, 0.001, 0.1,\n",
       "                                                          1.0],\n",
       "                                        &#x27;n_estimators&#x27;: [100, 200, 300]})</pre></div></div></div><div class=\"sk-parallel\"><div class=\"sk-parallel-item\"><div class=\"sk-item\"><div class=\"sk-label-container\"><div class=\"sk-label sk-toggleable\"><input class=\"sk-toggleable__control sk-hidden--visually\" id=\"sk-estimator-id-21\" type=\"checkbox\" ><label for=\"sk-estimator-id-21\" class=\"sk-toggleable__label sk-toggleable__label-arrow\">estimator: AdaBoostClassifier</label><div class=\"sk-toggleable__content\"><pre>AdaBoostClassifier(random_state=42)</pre></div></div></div><div class=\"sk-serial\"><div class=\"sk-item\"><div class=\"sk-estimator sk-toggleable\"><input class=\"sk-toggleable__control sk-hidden--visually\" id=\"sk-estimator-id-22\" type=\"checkbox\" ><label for=\"sk-estimator-id-22\" class=\"sk-toggleable__label sk-toggleable__label-arrow\">AdaBoostClassifier</label><div class=\"sk-toggleable__content\"><pre>AdaBoostClassifier(random_state=42)</pre></div></div></div></div></div></div></div></div></div></div>"
      ],
      "text/plain": [
       "RandomizedSearchCV(cv=5, estimator=AdaBoostClassifier(random_state=42),\n",
       "                   param_distributions={'algorithm': ['SAMME', 'SAMME.R'],\n",
       "                                        'learning_rate': [0.0001, 0.001, 0.1,\n",
       "                                                          1.0],\n",
       "                                        'n_estimators': [100, 200, 300]})"
      ]
     },
     "execution_count": 82,
     "metadata": {},
     "output_type": "execute_result"
    }
   ],
   "source": [
    "Ada_Boost = AdaBoostClassifier(random_state = 42)\n",
    "AdaBoost_rs = RandomizedSearchCV(estimator = Ada_Boost, param_distributions = ada_params, \n",
    "                                 n_iter = 10, cv = 5)\n",
    "AdaBoost_rs.fit(xtrain,ytrain)"
   ]
  },
  {
   "cell_type": "code",
   "execution_count": 83,
   "id": "c86d7b83-47ac-4c3b-98ff-60fab8d7e718",
   "metadata": {},
   "outputs": [
    {
     "name": "stdout",
     "output_type": "stream",
     "text": [
      "Classification Report\n",
      "\n",
      "               precision    recall  f1-score   support\n",
      "\n",
      "           0       0.54      0.55      0.55      3242\n",
      "           1       0.66      0.59      0.63      5655\n",
      "           2       0.70      0.74      0.72     10343\n",
      "\n",
      "    accuracy                           0.67     19240\n",
      "   macro avg       0.64      0.63      0.63     19240\n",
      "weighted avg       0.66      0.67      0.66     19240\n",
      "\n"
     ]
    }
   ],
   "source": [
    "y_predAdaBoost_rs = AdaBoost_rs.predict(xtest)\n",
    "\n",
    "print('Classification Report\\n\\n', classification_report(ytest,y_predAdaBoost_rs))"
   ]
  },
  {
   "cell_type": "markdown",
   "id": "c8fd8eb7-1f5a-4412-9422-af1762a1c6fd",
   "metadata": {},
   "source": [
    "# Hyperparameter Optimization of XGBoost for GRID Search"
   ]
  },
  {
   "cell_type": "code",
   "execution_count": 63,
   "id": "56db8912-e61e-4b49-aa55-7ad54ed42084",
   "metadata": {},
   "outputs": [],
   "source": [
    "xgb_params = {\n",
    "    'n_estimators': [100, 200, 300],\n",
    "    'learning_rate': [0.1, 0.01, 0.001],\n",
    "    'max_depth': [7,10,15],\n",
    "    'subsample': [0.8, 0.9],\n",
    "    'colsample_bytree': [0.7, 0.8],\n",
    "    'gamma': [0.0, 0.1, 0.2],\n",
    "    'min_child_weight': [1, 2],\n",
    "    'reg_alpha': [0.0, 0.1, 0.5],\n",
    "    'reg_lambda': [0.0, 0.1, 0.5],\n",
    "    }"
   ]
  },
  {
   "cell_type": "code",
   "execution_count": null,
   "id": "e9b751bb-f3ad-405f-97a4-409fd5d4a5a9",
   "metadata": {},
   "outputs": [],
   "source": [
    "xgb_gs = GridSearchCV(XGBClassifier(random_state = 42),xgb_params, cv = 5)\n",
    "\n",
    "xgb_gs.fit(xtrain,ytrain)"
   ]
  },
  {
   "cell_type": "code",
   "execution_count": null,
   "id": "2c173b96-1861-462a-a57b-1cbb1b29113c",
   "metadata": {},
   "outputs": [],
   "source": [
    "y_predxgb_gs = xgb_gs.predict(xtest)\n",
    "\n",
    "print('Classification Report\\n\\n', classification_report(ytest,y_predxgb_gs))"
   ]
  },
  {
   "cell_type": "markdown",
   "id": "033786ee-2de0-4b50-8de7-a1842f7a270b",
   "metadata": {},
   "source": [
    "# Cross Validation & SMOTE (Model: Random Forest)"
   ]
  },
  {
   "cell_type": "code",
   "execution_count": 84,
   "id": "a935568b-a404-4fea-9138-ad9aa4a4cda9",
   "metadata": {},
   "outputs": [
    {
     "name": "stdout",
     "output_type": "stream",
     "text": [
      "Accuracy:\n",
      "0.7939708939708939 0.7935550935550936 0.8111226611226611 0.7960498960498961 0.7951143451143451 0.7934511434511434 0.7858627858627859 0.7896049896049896 0.7931392931392931 0.7917879417879418 Avg Accuracy: 0.7943659043659045\n"
     ]
    }
   ],
   "source": [
    "k_fold = StratifiedKFold(n_splits=10, shuffle=True, random_state=42)\n",
    "sumAcc = 0\n",
    "print('Accuracy:')\n",
    "for train_index, test_index in k_fold.split(x,y):\n",
    "    xtrain, xtest = x.iloc[train_index], x.iloc[test_index]\n",
    "    ytrain, ytest = y.iloc[train_index], y.iloc[test_index]\n",
    "\n",
    "    # Initialize SMOTE \n",
    "    smote = SMOTE(sampling_strategy='auto', random_state=42)\n",
    "\n",
    "    # Apply SMOTE to the training data\n",
    "    xtrain_resampled, ytrain_resampled = smote.fit_resample(xtrain, ytrain)\n",
    "\n",
    "    rf = RandomForestClassifier(random_state=42)\n",
    "    rf.fit(xtrain_resampled,ytrain_resampled)\n",
    "\n",
    "    y_predrf = rf.predict(xtest)\n",
    "    acc = accuracy_score(ytest,y_predrf)\n",
    "    sumAcc +=  acc\n",
    "        \n",
    "    print(acc,end=' ')\n",
    "\n",
    "print('Avg Accuracy:', sumAcc/10) "
   ]
  },
  {
   "cell_type": "markdown",
   "id": "60de94fc-b488-4882-890b-7a568c8bbab4",
   "metadata": {},
   "source": [
    "# Cross Validation & SMOTE (Model: Balanced Random Forest)"
   ]
  },
  {
   "cell_type": "code",
   "execution_count": 85,
   "id": "c59eefbb-0f83-4573-aada-85aaba8d0024",
   "metadata": {},
   "outputs": [
    {
     "name": "stdout",
     "output_type": "stream",
     "text": [
      "Accuracy:\n",
      "0.7943866943866944 0.7928274428274428 0.811018711018711 0.7967775467775468 0.7942827442827443 0.7920997920997921 0.7900207900207901 0.7905405405405406 0.7931392931392931 0.7890852390852391 Avg Accuracy: 0.7944178794178794\n"
     ]
    }
   ],
   "source": [
    "k_fold = StratifiedKFold(n_splits=10, shuffle=True, random_state=42)\n",
    "sumAcc = 0\n",
    "print('Accuracy:')\n",
    "for train_index, test_index in k_fold.split(x,y):\n",
    "    xtrain, xtest = x.iloc[train_index], x.iloc[test_index]\n",
    "    ytrain, ytest = y.iloc[train_index], y.iloc[test_index]\n",
    "\n",
    "    # Initialize SMOTE \n",
    "    smote = SMOTE(sampling_strategy='auto', random_state=42)\n",
    "\n",
    "    # Apply SMOTE to the training data\n",
    "    xtrain_resampled, ytrain_resampled = smote.fit_resample(xtrain, ytrain)\n",
    "\n",
    "    brf = BalancedRandomForestClassifier(random_state=42)\n",
    "    brf.fit(xtrain_resampled,ytrain_resampled)\n",
    "\n",
    "    y_predbrf = brf.predict(xtest)\n",
    "    acc = accuracy_score(ytest,y_predbrf)\n",
    "    sumAcc +=  acc\n",
    "     \n",
    "    print(acc,end=' ')\n",
    "\n",
    "print('Avg Accuracy:', sumAcc/10)"
   ]
  },
  {
   "cell_type": "markdown",
   "id": "3ea143ce-dec8-4b4f-9caf-2862fc15ccc8",
   "metadata": {},
   "source": [
    "# Cross validation and SMOTE in XGBOOST"
   ]
  },
  {
   "cell_type": "code",
   "execution_count": 86,
   "id": "8922b7e4-0813-4677-acea-c8a1c33a545a",
   "metadata": {},
   "outputs": [
    {
     "name": "stdout",
     "output_type": "stream",
     "text": [
      "Accuracy:\n",
      "0.7515592515592515 0.7534303534303535 0.7688149688149688 0.756029106029106 0.7565488565488565 0.754054054054054 0.750935550935551 0.7498960498960499 0.7553014553014553 0.7521829521829522 Avg Accuracy: 0.7548752598752598\n"
     ]
    }
   ],
   "source": [
    "k_fold = StratifiedKFold(n_splits=10, shuffle=True, random_state=42)\n",
    "sumAcc = 0\n",
    "print('Accuracy:')\n",
    "for train_index, test_index in k_fold.split(x,y):\n",
    "    xtrain, xtest = x.iloc[train_index], x.iloc[test_index]\n",
    "    ytrain, ytest = y.iloc[train_index], y.iloc[test_index]\n",
    "\n",
    "    # Initialize SMOTE \n",
    "    smote = SMOTE(sampling_strategy='auto', random_state=42)\n",
    "\n",
    "    # Apply SMOTE to the training data\n",
    "    xtrain_resampled, ytrain_resampled = smote.fit_resample(xtrain, ytrain)\n",
    "\n",
    "    xg = XGBClassifier(random_state = 42)\n",
    "    xg.fit(xtrain_resampled,ytrain_resampled)\n",
    "\n",
    "    y_predxg = xg.predict(xtest)\n",
    "    acc = accuracy_score(ytest,y_predxg)\n",
    "    sumAcc +=  acc\n",
    "\n",
    "    print(acc,end=' ')\n",
    "\n",
    "print('Avg Accuracy:', sumAcc/10)"
   ]
  },
  {
   "cell_type": "markdown",
   "id": "e026c83d-5a24-4091-898f-ad3f0f53898e",
   "metadata": {},
   "source": [
    "# Applying PCA"
   ]
  },
  {
   "cell_type": "code",
   "execution_count": 87,
   "id": "88679ebe-0f16-4cda-a1e1-796e43abfe96",
   "metadata": {},
   "outputs": [],
   "source": [
    "from sklearn.decomposition import PCA"
   ]
  },
  {
   "cell_type": "code",
   "execution_count": 88,
   "id": "ce2b6256-c43a-4a81-8546-b3b3a07dd379",
   "metadata": {},
   "outputs": [],
   "source": [
    "# Initialize PCA with the number of components you want to keep\n",
    "n_components = 15\n",
    "pca = PCA(n_components=n_components)\n",
    "\n",
    "# Fit and transform your dataset\n",
    "x_pca = pca.fit_transform(x)"
   ]
  },
  {
   "cell_type": "code",
   "execution_count": 89,
   "id": "67fcb570-d94c-4d1a-83db-ec96b7225e49",
   "metadata": {},
   "outputs": [
    {
     "name": "stdout",
     "output_type": "stream",
     "text": [
      "Accuracy:\n",
      "0.6502079002079002 0.653950103950104 0.6658004158004158 0.6548856548856549 0.6516632016632017 0.6583160083160083 0.6476091476091476 0.6529106029106029 0.6495841995841996 0.6648648648648648 Avg Accuracy: 0.65497920997921\n"
     ]
    }
   ],
   "source": [
    "k_fold = StratifiedKFold(n_splits=10, shuffle=True, random_state=42)\n",
    "sumAcc = 0\n",
    "print('Accuracy:')\n",
    "for train_index, test_index in k_fold.split(x_pca,y):\n",
    "    xtrain, xtest = x.iloc[train_index], x.iloc[test_index]\n",
    "    ytrain, ytest = y.iloc[train_index], y.iloc[test_index]\n",
    "\n",
    "    # Initialize SMOTE \n",
    "    smote = SMOTE(sampling_strategy='auto', random_state=42)\n",
    "\n",
    "    # Apply SMOTE to the training data\n",
    "    xtrain_resampled, ytrain_resampled = smote.fit_resample(xtrain, ytrain)\n",
    "\n",
    "    ada = AdaBoostClassifier(random_state = 42)\n",
    "    ada.fit(xtrain_resampled, ytrain_resampled)\n",
    "\n",
    "    y_predada = ada.predict(xtest)\n",
    "    acc = accuracy_score(ytest,y_predada)\n",
    "    sumAcc +=  acc\n",
    "\n",
    "    print(acc,end=' ')\n",
    "\n",
    "print('Avg Accuracy:', sumAcc/10)"
   ]
  },
  {
   "cell_type": "code",
   "execution_count": 90,
   "id": "515372aa-f1a8-4154-b2a0-b90d04c45145",
   "metadata": {},
   "outputs": [
    {
     "name": "stdout",
     "output_type": "stream",
     "text": [
      "Accuracy:\n",
      "0.7943866943866944 0.7928274428274428 0.811018711018711 0.7967775467775468 0.7942827442827443 0.7920997920997921 0.7900207900207901 0.7905405405405406 0.7931392931392931 0.7890852390852391 Avg Accuracy: 0.7944178794178794\n"
     ]
    }
   ],
   "source": [
    "k_fold = StratifiedKFold(n_splits=10, shuffle=True, random_state=42)\n",
    "sumAcc = 0\n",
    "print('Accuracy:')\n",
    "for train_index, test_index in k_fold.split(x_pca,y):\n",
    "    xtrain, xtest = x.iloc[train_index], x.iloc[test_index]\n",
    "    ytrain, ytest = y.iloc[train_index], y.iloc[test_index]\n",
    "\n",
    "    # Initialize SMOTE \n",
    "    smote = SMOTE(sampling_strategy='auto', random_state=42)\n",
    "\n",
    "    # Apply SMOTE to the training data\n",
    "    xtrain_resampled, ytrain_resampled = smote.fit_resample(xtrain, ytrain)\n",
    "\n",
    "    brf = BalancedRandomForestClassifier(random_state=42)\n",
    "    brf.fit(xtrain_resampled,ytrain_resampled)\n",
    "\n",
    "    y_predbrf = brf.predict(xtest)\n",
    "    acc = accuracy_score(ytest,y_predbrf)\n",
    "    sumAcc +=  acc\n",
    "\n",
    "    print(acc,end=' ')\n",
    "\n",
    "print('Avg Accuracy:', sumAcc/10)"
   ]
  },
  {
   "cell_type": "markdown",
   "id": "e7b4b58a-a449-4b6b-9b49-46ae5f62bdfe",
   "metadata": {},
   "source": [
    "# Combined Over  and Under Sampling"
   ]
  },
  {
   "cell_type": "markdown",
   "id": "58ff9f58-03d0-4b5f-9aba-8c3e54147eb5",
   "metadata": {},
   "source": [
    "**WE split x,y to train & test above for this part**"
   ]
  },
  {
   "cell_type": "code",
   "execution_count": 40,
   "id": "8bb9aaca-b790-481c-b109-48a40b973b23",
   "metadata": {},
   "outputs": [],
   "source": [
    "# Step 1: Oversampling with SMOTE\n",
    "smote = SMOTE(sampling_strategy='auto', random_state=42)\n",
    "x_oversampled, y_oversampled = smote.fit_resample(xtrain, ytrain)\n",
    "\n",
    "# Step 2: Undersampling with Cluster Centroids\n",
    "cluster_centroids = ClusterCentroids(sampling_strategy='auto', random_state=42)\n",
    "x_combined, y_combined = cluster_centroids.fit_resample(x_oversampled, y_oversampled)"
   ]
  },
  {
   "cell_type": "markdown",
   "id": "fb41c73a-df04-4e74-a9b0-d692f746059a",
   "metadata": {},
   "source": [
    "# using random forest and balanced random forest"
   ]
  },
  {
   "cell_type": "code",
   "execution_count": 55,
   "id": "5efbb518-2711-44d2-b100-da9564af83d6",
   "metadata": {},
   "outputs": [
    {
     "data": {
      "text/html": [
       "<style>#sk-container-id-5 {color: black;}#sk-container-id-5 pre{padding: 0;}#sk-container-id-5 div.sk-toggleable {background-color: white;}#sk-container-id-5 label.sk-toggleable__label {cursor: pointer;display: block;width: 100%;margin-bottom: 0;padding: 0.3em;box-sizing: border-box;text-align: center;}#sk-container-id-5 label.sk-toggleable__label-arrow:before {content: \"▸\";float: left;margin-right: 0.25em;color: #696969;}#sk-container-id-5 label.sk-toggleable__label-arrow:hover:before {color: black;}#sk-container-id-5 div.sk-estimator:hover label.sk-toggleable__label-arrow:before {color: black;}#sk-container-id-5 div.sk-toggleable__content {max-height: 0;max-width: 0;overflow: hidden;text-align: left;background-color: #f0f8ff;}#sk-container-id-5 div.sk-toggleable__content pre {margin: 0.2em;color: black;border-radius: 0.25em;background-color: #f0f8ff;}#sk-container-id-5 input.sk-toggleable__control:checked~div.sk-toggleable__content {max-height: 200px;max-width: 100%;overflow: auto;}#sk-container-id-5 input.sk-toggleable__control:checked~label.sk-toggleable__label-arrow:before {content: \"▾\";}#sk-container-id-5 div.sk-estimator input.sk-toggleable__control:checked~label.sk-toggleable__label {background-color: #d4ebff;}#sk-container-id-5 div.sk-label input.sk-toggleable__control:checked~label.sk-toggleable__label {background-color: #d4ebff;}#sk-container-id-5 input.sk-hidden--visually {border: 0;clip: rect(1px 1px 1px 1px);clip: rect(1px, 1px, 1px, 1px);height: 1px;margin: -1px;overflow: hidden;padding: 0;position: absolute;width: 1px;}#sk-container-id-5 div.sk-estimator {font-family: monospace;background-color: #f0f8ff;border: 1px dotted black;border-radius: 0.25em;box-sizing: border-box;margin-bottom: 0.5em;}#sk-container-id-5 div.sk-estimator:hover {background-color: #d4ebff;}#sk-container-id-5 div.sk-parallel-item::after {content: \"\";width: 100%;border-bottom: 1px solid gray;flex-grow: 1;}#sk-container-id-5 div.sk-label:hover label.sk-toggleable__label {background-color: #d4ebff;}#sk-container-id-5 div.sk-serial::before {content: \"\";position: absolute;border-left: 1px solid gray;box-sizing: border-box;top: 0;bottom: 0;left: 50%;z-index: 0;}#sk-container-id-5 div.sk-serial {display: flex;flex-direction: column;align-items: center;background-color: white;padding-right: 0.2em;padding-left: 0.2em;position: relative;}#sk-container-id-5 div.sk-item {position: relative;z-index: 1;}#sk-container-id-5 div.sk-parallel {display: flex;align-items: stretch;justify-content: center;background-color: white;position: relative;}#sk-container-id-5 div.sk-item::before, #sk-container-id-5 div.sk-parallel-item::before {content: \"\";position: absolute;border-left: 1px solid gray;box-sizing: border-box;top: 0;bottom: 0;left: 50%;z-index: -1;}#sk-container-id-5 div.sk-parallel-item {display: flex;flex-direction: column;z-index: 1;position: relative;background-color: white;}#sk-container-id-5 div.sk-parallel-item:first-child::after {align-self: flex-end;width: 50%;}#sk-container-id-5 div.sk-parallel-item:last-child::after {align-self: flex-start;width: 50%;}#sk-container-id-5 div.sk-parallel-item:only-child::after {width: 0;}#sk-container-id-5 div.sk-dashed-wrapped {border: 1px dashed gray;margin: 0 0.4em 0.5em 0.4em;box-sizing: border-box;padding-bottom: 0.4em;background-color: white;}#sk-container-id-5 div.sk-label label {font-family: monospace;font-weight: bold;display: inline-block;line-height: 1.2em;}#sk-container-id-5 div.sk-label-container {text-align: center;}#sk-container-id-5 div.sk-container {/* jupyter's `normalize.less` sets `[hidden] { display: none; }` but bootstrap.min.css set `[hidden] { display: none !important; }` so we also need the `!important` here to be able to override the default hidden behavior on the sphinx rendered scikit-learn.org. See: https://github.com/scikit-learn/scikit-learn/issues/21755 */display: inline-block !important;position: relative;}#sk-container-id-5 div.sk-text-repr-fallback {display: none;}</style><div id=\"sk-container-id-5\" class=\"sk-top-container\"><div class=\"sk-text-repr-fallback\"><pre>RandomForestClassifier(random_state=42)</pre><b>In a Jupyter environment, please rerun this cell to show the HTML representation or trust the notebook. <br />On GitHub, the HTML representation is unable to render, please try loading this page with nbviewer.org.</b></div><div class=\"sk-container\" hidden><div class=\"sk-item\"><div class=\"sk-estimator sk-toggleable\"><input class=\"sk-toggleable__control sk-hidden--visually\" id=\"sk-estimator-id-13\" type=\"checkbox\" checked><label for=\"sk-estimator-id-13\" class=\"sk-toggleable__label sk-toggleable__label-arrow\">RandomForestClassifier</label><div class=\"sk-toggleable__content\"><pre>RandomForestClassifier(random_state=42)</pre></div></div></div></div></div>"
      ],
      "text/plain": [
       "RandomForestClassifier(random_state=42)"
      ]
     },
     "execution_count": 55,
     "metadata": {},
     "output_type": "execute_result"
    }
   ],
   "source": [
    "rf = RandomForestClassifier(random_state=42)\n",
    "rf.fit(x_combined, y_combined)"
   ]
  },
  {
   "cell_type": "code",
   "execution_count": 57,
   "id": "0ea3e057-40f5-4f85-9d51-0dc6bbb53d08",
   "metadata": {},
   "outputs": [
    {
     "name": "stdout",
     "output_type": "stream",
     "text": [
      "Classification Report\n",
      "\n",
      "               precision    recall  f1-score   support\n",
      "\n",
      "           0       0.69      0.78      0.73      3242\n",
      "           1       0.77      0.84      0.80      5655\n",
      "           2       0.85      0.77      0.81     10343\n",
      "\n",
      "    accuracy                           0.79     19240\n",
      "   macro avg       0.77      0.80      0.78     19240\n",
      "weighted avg       0.80      0.79      0.79     19240\n",
      "\n"
     ]
    }
   ],
   "source": [
    "y_predrfc = rf.predict(xtest)\n",
    "\n",
    "print('Classification Report\\n\\n', classification_report(ytest,y_predrfc))"
   ]
  },
  {
   "cell_type": "code",
   "execution_count": 58,
   "id": "a604894e-f9c9-4aa3-83a6-660df7f8986d",
   "metadata": {},
   "outputs": [
    {
     "data": {
      "text/html": [
       "<style>#sk-container-id-6 {color: black;}#sk-container-id-6 pre{padding: 0;}#sk-container-id-6 div.sk-toggleable {background-color: white;}#sk-container-id-6 label.sk-toggleable__label {cursor: pointer;display: block;width: 100%;margin-bottom: 0;padding: 0.3em;box-sizing: border-box;text-align: center;}#sk-container-id-6 label.sk-toggleable__label-arrow:before {content: \"▸\";float: left;margin-right: 0.25em;color: #696969;}#sk-container-id-6 label.sk-toggleable__label-arrow:hover:before {color: black;}#sk-container-id-6 div.sk-estimator:hover label.sk-toggleable__label-arrow:before {color: black;}#sk-container-id-6 div.sk-toggleable__content {max-height: 0;max-width: 0;overflow: hidden;text-align: left;background-color: #f0f8ff;}#sk-container-id-6 div.sk-toggleable__content pre {margin: 0.2em;color: black;border-radius: 0.25em;background-color: #f0f8ff;}#sk-container-id-6 input.sk-toggleable__control:checked~div.sk-toggleable__content {max-height: 200px;max-width: 100%;overflow: auto;}#sk-container-id-6 input.sk-toggleable__control:checked~label.sk-toggleable__label-arrow:before {content: \"▾\";}#sk-container-id-6 div.sk-estimator input.sk-toggleable__control:checked~label.sk-toggleable__label {background-color: #d4ebff;}#sk-container-id-6 div.sk-label input.sk-toggleable__control:checked~label.sk-toggleable__label {background-color: #d4ebff;}#sk-container-id-6 input.sk-hidden--visually {border: 0;clip: rect(1px 1px 1px 1px);clip: rect(1px, 1px, 1px, 1px);height: 1px;margin: -1px;overflow: hidden;padding: 0;position: absolute;width: 1px;}#sk-container-id-6 div.sk-estimator {font-family: monospace;background-color: #f0f8ff;border: 1px dotted black;border-radius: 0.25em;box-sizing: border-box;margin-bottom: 0.5em;}#sk-container-id-6 div.sk-estimator:hover {background-color: #d4ebff;}#sk-container-id-6 div.sk-parallel-item::after {content: \"\";width: 100%;border-bottom: 1px solid gray;flex-grow: 1;}#sk-container-id-6 div.sk-label:hover label.sk-toggleable__label {background-color: #d4ebff;}#sk-container-id-6 div.sk-serial::before {content: \"\";position: absolute;border-left: 1px solid gray;box-sizing: border-box;top: 0;bottom: 0;left: 50%;z-index: 0;}#sk-container-id-6 div.sk-serial {display: flex;flex-direction: column;align-items: center;background-color: white;padding-right: 0.2em;padding-left: 0.2em;position: relative;}#sk-container-id-6 div.sk-item {position: relative;z-index: 1;}#sk-container-id-6 div.sk-parallel {display: flex;align-items: stretch;justify-content: center;background-color: white;position: relative;}#sk-container-id-6 div.sk-item::before, #sk-container-id-6 div.sk-parallel-item::before {content: \"\";position: absolute;border-left: 1px solid gray;box-sizing: border-box;top: 0;bottom: 0;left: 50%;z-index: -1;}#sk-container-id-6 div.sk-parallel-item {display: flex;flex-direction: column;z-index: 1;position: relative;background-color: white;}#sk-container-id-6 div.sk-parallel-item:first-child::after {align-self: flex-end;width: 50%;}#sk-container-id-6 div.sk-parallel-item:last-child::after {align-self: flex-start;width: 50%;}#sk-container-id-6 div.sk-parallel-item:only-child::after {width: 0;}#sk-container-id-6 div.sk-dashed-wrapped {border: 1px dashed gray;margin: 0 0.4em 0.5em 0.4em;box-sizing: border-box;padding-bottom: 0.4em;background-color: white;}#sk-container-id-6 div.sk-label label {font-family: monospace;font-weight: bold;display: inline-block;line-height: 1.2em;}#sk-container-id-6 div.sk-label-container {text-align: center;}#sk-container-id-6 div.sk-container {/* jupyter's `normalize.less` sets `[hidden] { display: none; }` but bootstrap.min.css set `[hidden] { display: none !important; }` so we also need the `!important` here to be able to override the default hidden behavior on the sphinx rendered scikit-learn.org. See: https://github.com/scikit-learn/scikit-learn/issues/21755 */display: inline-block !important;position: relative;}#sk-container-id-6 div.sk-text-repr-fallback {display: none;}</style><div id=\"sk-container-id-6\" class=\"sk-top-container\"><div class=\"sk-text-repr-fallback\"><pre>BalancedRandomForestClassifier(random_state=42)</pre><b>In a Jupyter environment, please rerun this cell to show the HTML representation or trust the notebook. <br />On GitHub, the HTML representation is unable to render, please try loading this page with nbviewer.org.</b></div><div class=\"sk-container\" hidden><div class=\"sk-item\"><div class=\"sk-estimator sk-toggleable\"><input class=\"sk-toggleable__control sk-hidden--visually\" id=\"sk-estimator-id-14\" type=\"checkbox\" checked><label for=\"sk-estimator-id-14\" class=\"sk-toggleable__label sk-toggleable__label-arrow\">BalancedRandomForestClassifier</label><div class=\"sk-toggleable__content\"><pre>BalancedRandomForestClassifier(random_state=42)</pre></div></div></div></div></div>"
      ],
      "text/plain": [
       "BalancedRandomForestClassifier(random_state=42)"
      ]
     },
     "execution_count": 58,
     "metadata": {},
     "output_type": "execute_result"
    }
   ],
   "source": [
    "brfc = BalancedRandomForestClassifier(random_state=42)\n",
    "brfc.fit(x_combined, y_combined)"
   ]
  },
  {
   "cell_type": "code",
   "execution_count": 59,
   "id": "79c055c9-db1b-40df-95b8-6fd8df0bde58",
   "metadata": {},
   "outputs": [
    {
     "name": "stdout",
     "output_type": "stream",
     "text": [
      "Classification Report\n",
      "\n",
      "               precision    recall  f1-score   support\n",
      "\n",
      "           0       0.69      0.78      0.73      3242\n",
      "           1       0.77      0.84      0.80      5655\n",
      "           2       0.85      0.77      0.81     10343\n",
      "\n",
      "    accuracy                           0.79     19240\n",
      "   macro avg       0.77      0.80      0.78     19240\n",
      "weighted avg       0.80      0.79      0.79     19240\n",
      "\n"
     ]
    }
   ],
   "source": [
    "y_predbrfc = brfc.predict(xtest)\n",
    "\n",
    "print('Classification Report\\n\\n', classification_report(ytest,y_predbrfc))"
   ]
  },
  {
   "cell_type": "markdown",
   "id": "004e0764-4194-43ab-9322-6777d9e8d455",
   "metadata": {
    "jp-MarkdownHeadingCollapsed": true
   },
   "source": [
    "# Under-sampling RandomUnderSampler"
   ]
  },
  {
   "cell_type": "code",
   "execution_count": 65,
   "id": "c526ebfc-7eae-4ee3-b8ce-add7104b713b",
   "metadata": {},
   "outputs": [],
   "source": [
    "rus = RandomUnderSampler(sampling_strategy='auto', random_state=42)\n",
    "x_resampled, y_resampled = rus.fit_resample(xtrain, ytrain)"
   ]
  },
  {
   "cell_type": "code",
   "execution_count": 66,
   "id": "d3463b02-468a-49b7-930a-125f7920b96e",
   "metadata": {},
   "outputs": [
    {
     "data": {
      "text/html": [
       "<style>#sk-container-id-7 {color: black;}#sk-container-id-7 pre{padding: 0;}#sk-container-id-7 div.sk-toggleable {background-color: white;}#sk-container-id-7 label.sk-toggleable__label {cursor: pointer;display: block;width: 100%;margin-bottom: 0;padding: 0.3em;box-sizing: border-box;text-align: center;}#sk-container-id-7 label.sk-toggleable__label-arrow:before {content: \"▸\";float: left;margin-right: 0.25em;color: #696969;}#sk-container-id-7 label.sk-toggleable__label-arrow:hover:before {color: black;}#sk-container-id-7 div.sk-estimator:hover label.sk-toggleable__label-arrow:before {color: black;}#sk-container-id-7 div.sk-toggleable__content {max-height: 0;max-width: 0;overflow: hidden;text-align: left;background-color: #f0f8ff;}#sk-container-id-7 div.sk-toggleable__content pre {margin: 0.2em;color: black;border-radius: 0.25em;background-color: #f0f8ff;}#sk-container-id-7 input.sk-toggleable__control:checked~div.sk-toggleable__content {max-height: 200px;max-width: 100%;overflow: auto;}#sk-container-id-7 input.sk-toggleable__control:checked~label.sk-toggleable__label-arrow:before {content: \"▾\";}#sk-container-id-7 div.sk-estimator input.sk-toggleable__control:checked~label.sk-toggleable__label {background-color: #d4ebff;}#sk-container-id-7 div.sk-label input.sk-toggleable__control:checked~label.sk-toggleable__label {background-color: #d4ebff;}#sk-container-id-7 input.sk-hidden--visually {border: 0;clip: rect(1px 1px 1px 1px);clip: rect(1px, 1px, 1px, 1px);height: 1px;margin: -1px;overflow: hidden;padding: 0;position: absolute;width: 1px;}#sk-container-id-7 div.sk-estimator {font-family: monospace;background-color: #f0f8ff;border: 1px dotted black;border-radius: 0.25em;box-sizing: border-box;margin-bottom: 0.5em;}#sk-container-id-7 div.sk-estimator:hover {background-color: #d4ebff;}#sk-container-id-7 div.sk-parallel-item::after {content: \"\";width: 100%;border-bottom: 1px solid gray;flex-grow: 1;}#sk-container-id-7 div.sk-label:hover label.sk-toggleable__label {background-color: #d4ebff;}#sk-container-id-7 div.sk-serial::before {content: \"\";position: absolute;border-left: 1px solid gray;box-sizing: border-box;top: 0;bottom: 0;left: 50%;z-index: 0;}#sk-container-id-7 div.sk-serial {display: flex;flex-direction: column;align-items: center;background-color: white;padding-right: 0.2em;padding-left: 0.2em;position: relative;}#sk-container-id-7 div.sk-item {position: relative;z-index: 1;}#sk-container-id-7 div.sk-parallel {display: flex;align-items: stretch;justify-content: center;background-color: white;position: relative;}#sk-container-id-7 div.sk-item::before, #sk-container-id-7 div.sk-parallel-item::before {content: \"\";position: absolute;border-left: 1px solid gray;box-sizing: border-box;top: 0;bottom: 0;left: 50%;z-index: -1;}#sk-container-id-7 div.sk-parallel-item {display: flex;flex-direction: column;z-index: 1;position: relative;background-color: white;}#sk-container-id-7 div.sk-parallel-item:first-child::after {align-self: flex-end;width: 50%;}#sk-container-id-7 div.sk-parallel-item:last-child::after {align-self: flex-start;width: 50%;}#sk-container-id-7 div.sk-parallel-item:only-child::after {width: 0;}#sk-container-id-7 div.sk-dashed-wrapped {border: 1px dashed gray;margin: 0 0.4em 0.5em 0.4em;box-sizing: border-box;padding-bottom: 0.4em;background-color: white;}#sk-container-id-7 div.sk-label label {font-family: monospace;font-weight: bold;display: inline-block;line-height: 1.2em;}#sk-container-id-7 div.sk-label-container {text-align: center;}#sk-container-id-7 div.sk-container {/* jupyter's `normalize.less` sets `[hidden] { display: none; }` but bootstrap.min.css set `[hidden] { display: none !important; }` so we also need the `!important` here to be able to override the default hidden behavior on the sphinx rendered scikit-learn.org. See: https://github.com/scikit-learn/scikit-learn/issues/21755 */display: inline-block !important;position: relative;}#sk-container-id-7 div.sk-text-repr-fallback {display: none;}</style><div id=\"sk-container-id-7\" class=\"sk-top-container\"><div class=\"sk-text-repr-fallback\"><pre>RandomForestClassifier(random_state=42)</pre><b>In a Jupyter environment, please rerun this cell to show the HTML representation or trust the notebook. <br />On GitHub, the HTML representation is unable to render, please try loading this page with nbviewer.org.</b></div><div class=\"sk-container\" hidden><div class=\"sk-item\"><div class=\"sk-estimator sk-toggleable\"><input class=\"sk-toggleable__control sk-hidden--visually\" id=\"sk-estimator-id-15\" type=\"checkbox\" checked><label for=\"sk-estimator-id-15\" class=\"sk-toggleable__label sk-toggleable__label-arrow\">RandomForestClassifier</label><div class=\"sk-toggleable__content\"><pre>RandomForestClassifier(random_state=42)</pre></div></div></div></div></div>"
      ],
      "text/plain": [
       "RandomForestClassifier(random_state=42)"
      ]
     },
     "execution_count": 66,
     "metadata": {},
     "output_type": "execute_result"
    }
   ],
   "source": [
    "rfu = RandomForestClassifier(random_state=42)\n",
    "rfu.fit(x_resampled, y_resampled)"
   ]
  },
  {
   "cell_type": "code",
   "execution_count": 67,
   "id": "23781bb3-8a2f-463a-88f8-36bef188b3ef",
   "metadata": {},
   "outputs": [
    {
     "name": "stdout",
     "output_type": "stream",
     "text": [
      "Classification Report\n",
      "\n",
      "               precision    recall  f1-score   support\n",
      "\n",
      "           0       0.63      0.85      0.72      3242\n",
      "           1       0.73      0.85      0.79      5655\n",
      "           2       0.87      0.70      0.78     10343\n",
      "\n",
      "    accuracy                           0.77     19240\n",
      "   macro avg       0.75      0.80      0.76     19240\n",
      "weighted avg       0.79      0.77      0.77     19240\n",
      "\n"
     ]
    }
   ],
   "source": [
    "y_predrfu = rfu.predict(xtest)\n",
    "\n",
    "print('Classification Report\\n\\n', classification_report(ytest,y_predrfu))"
   ]
  },
  {
   "cell_type": "code",
   "execution_count": 68,
   "id": "9948d794-4192-4d59-86f9-6be3758f9607",
   "metadata": {},
   "outputs": [
    {
     "data": {
      "text/html": [
       "<style>#sk-container-id-8 {color: black;}#sk-container-id-8 pre{padding: 0;}#sk-container-id-8 div.sk-toggleable {background-color: white;}#sk-container-id-8 label.sk-toggleable__label {cursor: pointer;display: block;width: 100%;margin-bottom: 0;padding: 0.3em;box-sizing: border-box;text-align: center;}#sk-container-id-8 label.sk-toggleable__label-arrow:before {content: \"▸\";float: left;margin-right: 0.25em;color: #696969;}#sk-container-id-8 label.sk-toggleable__label-arrow:hover:before {color: black;}#sk-container-id-8 div.sk-estimator:hover label.sk-toggleable__label-arrow:before {color: black;}#sk-container-id-8 div.sk-toggleable__content {max-height: 0;max-width: 0;overflow: hidden;text-align: left;background-color: #f0f8ff;}#sk-container-id-8 div.sk-toggleable__content pre {margin: 0.2em;color: black;border-radius: 0.25em;background-color: #f0f8ff;}#sk-container-id-8 input.sk-toggleable__control:checked~div.sk-toggleable__content {max-height: 200px;max-width: 100%;overflow: auto;}#sk-container-id-8 input.sk-toggleable__control:checked~label.sk-toggleable__label-arrow:before {content: \"▾\";}#sk-container-id-8 div.sk-estimator input.sk-toggleable__control:checked~label.sk-toggleable__label {background-color: #d4ebff;}#sk-container-id-8 div.sk-label input.sk-toggleable__control:checked~label.sk-toggleable__label {background-color: #d4ebff;}#sk-container-id-8 input.sk-hidden--visually {border: 0;clip: rect(1px 1px 1px 1px);clip: rect(1px, 1px, 1px, 1px);height: 1px;margin: -1px;overflow: hidden;padding: 0;position: absolute;width: 1px;}#sk-container-id-8 div.sk-estimator {font-family: monospace;background-color: #f0f8ff;border: 1px dotted black;border-radius: 0.25em;box-sizing: border-box;margin-bottom: 0.5em;}#sk-container-id-8 div.sk-estimator:hover {background-color: #d4ebff;}#sk-container-id-8 div.sk-parallel-item::after {content: \"\";width: 100%;border-bottom: 1px solid gray;flex-grow: 1;}#sk-container-id-8 div.sk-label:hover label.sk-toggleable__label {background-color: #d4ebff;}#sk-container-id-8 div.sk-serial::before {content: \"\";position: absolute;border-left: 1px solid gray;box-sizing: border-box;top: 0;bottom: 0;left: 50%;z-index: 0;}#sk-container-id-8 div.sk-serial {display: flex;flex-direction: column;align-items: center;background-color: white;padding-right: 0.2em;padding-left: 0.2em;position: relative;}#sk-container-id-8 div.sk-item {position: relative;z-index: 1;}#sk-container-id-8 div.sk-parallel {display: flex;align-items: stretch;justify-content: center;background-color: white;position: relative;}#sk-container-id-8 div.sk-item::before, #sk-container-id-8 div.sk-parallel-item::before {content: \"\";position: absolute;border-left: 1px solid gray;box-sizing: border-box;top: 0;bottom: 0;left: 50%;z-index: -1;}#sk-container-id-8 div.sk-parallel-item {display: flex;flex-direction: column;z-index: 1;position: relative;background-color: white;}#sk-container-id-8 div.sk-parallel-item:first-child::after {align-self: flex-end;width: 50%;}#sk-container-id-8 div.sk-parallel-item:last-child::after {align-self: flex-start;width: 50%;}#sk-container-id-8 div.sk-parallel-item:only-child::after {width: 0;}#sk-container-id-8 div.sk-dashed-wrapped {border: 1px dashed gray;margin: 0 0.4em 0.5em 0.4em;box-sizing: border-box;padding-bottom: 0.4em;background-color: white;}#sk-container-id-8 div.sk-label label {font-family: monospace;font-weight: bold;display: inline-block;line-height: 1.2em;}#sk-container-id-8 div.sk-label-container {text-align: center;}#sk-container-id-8 div.sk-container {/* jupyter's `normalize.less` sets `[hidden] { display: none; }` but bootstrap.min.css set `[hidden] { display: none !important; }` so we also need the `!important` here to be able to override the default hidden behavior on the sphinx rendered scikit-learn.org. See: https://github.com/scikit-learn/scikit-learn/issues/21755 */display: inline-block !important;position: relative;}#sk-container-id-8 div.sk-text-repr-fallback {display: none;}</style><div id=\"sk-container-id-8\" class=\"sk-top-container\"><div class=\"sk-text-repr-fallback\"><pre>XGBClassifier(base_score=None, booster=None, callbacks=None,\n",
       "              colsample_bylevel=None, colsample_bynode=None,\n",
       "              colsample_bytree=None, early_stopping_rounds=None,\n",
       "              enable_categorical=False, eval_metric=None, feature_types=None,\n",
       "              gamma=None, gpu_id=None, grow_policy=None, importance_type=None,\n",
       "              interaction_constraints=None, learning_rate=None, max_bin=None,\n",
       "              max_cat_threshold=None, max_cat_to_onehot=None,\n",
       "              max_delta_step=None, max_depth=None, max_leaves=None,\n",
       "              min_child_weight=None, missing=nan, monotone_constraints=None,\n",
       "              n_estimators=100, n_jobs=None, num_parallel_tree=None,\n",
       "              objective=&#x27;multi:softprob&#x27;, predictor=None, ...)</pre><b>In a Jupyter environment, please rerun this cell to show the HTML representation or trust the notebook. <br />On GitHub, the HTML representation is unable to render, please try loading this page with nbviewer.org.</b></div><div class=\"sk-container\" hidden><div class=\"sk-item\"><div class=\"sk-estimator sk-toggleable\"><input class=\"sk-toggleable__control sk-hidden--visually\" id=\"sk-estimator-id-16\" type=\"checkbox\" checked><label for=\"sk-estimator-id-16\" class=\"sk-toggleable__label sk-toggleable__label-arrow\">XGBClassifier</label><div class=\"sk-toggleable__content\"><pre>XGBClassifier(base_score=None, booster=None, callbacks=None,\n",
       "              colsample_bylevel=None, colsample_bynode=None,\n",
       "              colsample_bytree=None, early_stopping_rounds=None,\n",
       "              enable_categorical=False, eval_metric=None, feature_types=None,\n",
       "              gamma=None, gpu_id=None, grow_policy=None, importance_type=None,\n",
       "              interaction_constraints=None, learning_rate=None, max_bin=None,\n",
       "              max_cat_threshold=None, max_cat_to_onehot=None,\n",
       "              max_delta_step=None, max_depth=None, max_leaves=None,\n",
       "              min_child_weight=None, missing=nan, monotone_constraints=None,\n",
       "              n_estimators=100, n_jobs=None, num_parallel_tree=None,\n",
       "              objective=&#x27;multi:softprob&#x27;, predictor=None, ...)</pre></div></div></div></div></div>"
      ],
      "text/plain": [
       "XGBClassifier(base_score=None, booster=None, callbacks=None,\n",
       "              colsample_bylevel=None, colsample_bynode=None,\n",
       "              colsample_bytree=None, early_stopping_rounds=None,\n",
       "              enable_categorical=False, eval_metric=None, feature_types=None,\n",
       "              gamma=None, gpu_id=None, grow_policy=None, importance_type=None,\n",
       "              interaction_constraints=None, learning_rate=None, max_bin=None,\n",
       "              max_cat_threshold=None, max_cat_to_onehot=None,\n",
       "              max_delta_step=None, max_depth=None, max_leaves=None,\n",
       "              min_child_weight=None, missing=nan, monotone_constraints=None,\n",
       "              n_estimators=100, n_jobs=None, num_parallel_tree=None,\n",
       "              objective='multi:softprob', predictor=None, ...)"
      ]
     },
     "execution_count": 68,
     "metadata": {},
     "output_type": "execute_result"
    }
   ],
   "source": [
    "xgu = XGBClassifier(random_state = 42)\n",
    "xgu.fit(x_resampled, y_resampled)"
   ]
  },
  {
   "cell_type": "code",
   "execution_count": 69,
   "id": "be8cc5e4-9c1b-4af5-b115-96bde357afe6",
   "metadata": {},
   "outputs": [
    {
     "name": "stdout",
     "output_type": "stream",
     "text": [
      "Classification Report\n",
      "\n",
      "               precision    recall  f1-score   support\n",
      "\n",
      "           0       0.56      0.87      0.68      3242\n",
      "           1       0.71      0.81      0.76      5655\n",
      "           2       0.87      0.66      0.75     10343\n",
      "\n",
      "    accuracy                           0.74     19240\n",
      "   macro avg       0.72      0.78      0.73     19240\n",
      "weighted avg       0.77      0.74      0.74     19240\n",
      "\n"
     ]
    }
   ],
   "source": [
    "y_predxgu = xgu.predict(xtest)\n",
    "\n",
    "print('Classification Report\\n\\n', classification_report(ytest,y_predxgu))"
   ]
  },
  {
   "cell_type": "markdown",
   "id": "22d2b39e-eb68-4740-ba96-b05dc919b597",
   "metadata": {},
   "source": [
    "# UnderSampling"
   ]
  },
  {
   "cell_type": "code",
   "execution_count": 52,
   "id": "9c3a9fe4-da28-4245-977f-c74e326c29e1",
   "metadata": {},
   "outputs": [],
   "source": [
    "UnderSampling = RandomUnderSampler(sampling_strategy='auto', random_state=42)\n",
    "xtrain_UnderSample,ytrain_UnderSample = UnderSampling.fit_resample(xtrain,ytrain)"
   ]
  },
  {
   "cell_type": "markdown",
   "id": "40ac89dc-5c9d-4e80-b848-da4167478b78",
   "metadata": {},
   "source": [
    "# Applying SVM after UnderSampling "
   ]
  },
  {
   "cell_type": "code",
   "execution_count": null,
   "id": "87ae0ae4-e0c7-4a67-b95b-962702d92a41",
   "metadata": {},
   "outputs": [],
   "source": [
    "svm = SVC(kernel='linear', C=1.0)\n",
    "svm.fit(xtrain_UnderSample,ytrain_UnderSample)"
   ]
  },
  {
   "cell_type": "code",
   "execution_count": null,
   "id": "139b934b-b997-4728-a190-148308e83cf2",
   "metadata": {},
   "outputs": [],
   "source": [
    "ypred_svm = svm.predict(xtest)\n",
    "print(\"Classification Report:\\n\")\n",
    "print(classification_report(ytest, ypred_svm))"
   ]
  }
 ],
 "metadata": {
  "kernelspec": {
   "display_name": "Python 3 (ipykernel)",
   "language": "python",
   "name": "python3"
  },
  "language_info": {
   "codemirror_mode": {
    "name": "ipython",
    "version": 3
   },
   "file_extension": ".py",
   "mimetype": "text/x-python",
   "name": "python",
   "nbconvert_exporter": "python",
   "pygments_lexer": "ipython3",
   "version": "3.11.4"
  },
  "widgets": {
   "application/vnd.jupyter.widget-state+json": {
    "state": {},
    "version_major": 2,
    "version_minor": 0
   }
  }
 },
 "nbformat": 4,
 "nbformat_minor": 5
}
